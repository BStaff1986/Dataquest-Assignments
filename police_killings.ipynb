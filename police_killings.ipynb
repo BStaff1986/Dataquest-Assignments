{
 "cells": [
  {
   "cell_type": "markdown",
   "metadata": {},
   "source": [
    "# Police Killings\n",
    "As part of a DataQuest guided project, a dataset prepared by the Guardian and shared by FiveThirtyEight regarding citizens killed by police in the United States was downloaded and explored. "
   ]
  },
  {
   "cell_type": "code",
   "execution_count": 6,
   "metadata": {
    "collapsed": false
   },
   "outputs": [
    {
     "data": {
      "text/html": [
       "<div>\n",
       "<table border=\"1\" class=\"dataframe\">\n",
       "  <thead>\n",
       "    <tr style=\"text-align: right;\">\n",
       "      <th></th>\n",
       "      <th>name</th>\n",
       "      <th>age</th>\n",
       "      <th>gender</th>\n",
       "      <th>raceethnicity</th>\n",
       "      <th>month</th>\n",
       "      <th>day</th>\n",
       "      <th>year</th>\n",
       "      <th>streetaddress</th>\n",
       "      <th>city</th>\n",
       "      <th>state</th>\n",
       "      <th>...</th>\n",
       "      <th>share_hispanic</th>\n",
       "      <th>p_income</th>\n",
       "      <th>h_income</th>\n",
       "      <th>county_income</th>\n",
       "      <th>comp_income</th>\n",
       "      <th>county_bucket</th>\n",
       "      <th>nat_bucket</th>\n",
       "      <th>pov</th>\n",
       "      <th>urate</th>\n",
       "      <th>college</th>\n",
       "    </tr>\n",
       "  </thead>\n",
       "  <tbody>\n",
       "    <tr>\n",
       "      <th>0</th>\n",
       "      <td>A'donte Washington</td>\n",
       "      <td>16</td>\n",
       "      <td>Male</td>\n",
       "      <td>Black</td>\n",
       "      <td>February</td>\n",
       "      <td>23</td>\n",
       "      <td>2015</td>\n",
       "      <td>Clearview Ln</td>\n",
       "      <td>Millbrook</td>\n",
       "      <td>AL</td>\n",
       "      <td>...</td>\n",
       "      <td>5.6</td>\n",
       "      <td>28375</td>\n",
       "      <td>51367.0</td>\n",
       "      <td>54766</td>\n",
       "      <td>0.937936</td>\n",
       "      <td>3.0</td>\n",
       "      <td>3.0</td>\n",
       "      <td>14.1</td>\n",
       "      <td>0.097686</td>\n",
       "      <td>0.168510</td>\n",
       "    </tr>\n",
       "    <tr>\n",
       "      <th>1</th>\n",
       "      <td>Aaron Rutledge</td>\n",
       "      <td>27</td>\n",
       "      <td>Male</td>\n",
       "      <td>White</td>\n",
       "      <td>April</td>\n",
       "      <td>2</td>\n",
       "      <td>2015</td>\n",
       "      <td>300 block Iris Park Dr</td>\n",
       "      <td>Pineville</td>\n",
       "      <td>LA</td>\n",
       "      <td>...</td>\n",
       "      <td>0.5</td>\n",
       "      <td>14678</td>\n",
       "      <td>27972.0</td>\n",
       "      <td>40930</td>\n",
       "      <td>0.683411</td>\n",
       "      <td>2.0</td>\n",
       "      <td>1.0</td>\n",
       "      <td>28.8</td>\n",
       "      <td>0.065724</td>\n",
       "      <td>0.111402</td>\n",
       "    </tr>\n",
       "    <tr>\n",
       "      <th>2</th>\n",
       "      <td>Aaron Siler</td>\n",
       "      <td>26</td>\n",
       "      <td>Male</td>\n",
       "      <td>White</td>\n",
       "      <td>March</td>\n",
       "      <td>14</td>\n",
       "      <td>2015</td>\n",
       "      <td>22nd Ave and 56th St</td>\n",
       "      <td>Kenosha</td>\n",
       "      <td>WI</td>\n",
       "      <td>...</td>\n",
       "      <td>16.8</td>\n",
       "      <td>25286</td>\n",
       "      <td>45365.0</td>\n",
       "      <td>54930</td>\n",
       "      <td>0.825869</td>\n",
       "      <td>2.0</td>\n",
       "      <td>3.0</td>\n",
       "      <td>14.6</td>\n",
       "      <td>0.166293</td>\n",
       "      <td>0.147312</td>\n",
       "    </tr>\n",
       "    <tr>\n",
       "      <th>3</th>\n",
       "      <td>Aaron Valdez</td>\n",
       "      <td>25</td>\n",
       "      <td>Male</td>\n",
       "      <td>Hispanic/Latino</td>\n",
       "      <td>March</td>\n",
       "      <td>11</td>\n",
       "      <td>2015</td>\n",
       "      <td>3000 Seminole Ave</td>\n",
       "      <td>South Gate</td>\n",
       "      <td>CA</td>\n",
       "      <td>...</td>\n",
       "      <td>98.8</td>\n",
       "      <td>17194</td>\n",
       "      <td>48295.0</td>\n",
       "      <td>55909</td>\n",
       "      <td>0.863814</td>\n",
       "      <td>3.0</td>\n",
       "      <td>3.0</td>\n",
       "      <td>11.7</td>\n",
       "      <td>0.124827</td>\n",
       "      <td>0.050133</td>\n",
       "    </tr>\n",
       "    <tr>\n",
       "      <th>4</th>\n",
       "      <td>Adam Jovicic</td>\n",
       "      <td>29</td>\n",
       "      <td>Male</td>\n",
       "      <td>White</td>\n",
       "      <td>March</td>\n",
       "      <td>19</td>\n",
       "      <td>2015</td>\n",
       "      <td>364 Hiwood Ave</td>\n",
       "      <td>Munroe Falls</td>\n",
       "      <td>OH</td>\n",
       "      <td>...</td>\n",
       "      <td>1.7</td>\n",
       "      <td>33954</td>\n",
       "      <td>68785.0</td>\n",
       "      <td>49669</td>\n",
       "      <td>1.384868</td>\n",
       "      <td>5.0</td>\n",
       "      <td>4.0</td>\n",
       "      <td>1.9</td>\n",
       "      <td>0.063550</td>\n",
       "      <td>0.403954</td>\n",
       "    </tr>\n",
       "  </tbody>\n",
       "</table>\n",
       "<p>5 rows × 34 columns</p>\n",
       "</div>"
      ],
      "text/plain": [
       "                 name age gender    raceethnicity     month  day  year  \\\n",
       "0  A'donte Washington  16   Male            Black  February   23  2015   \n",
       "1      Aaron Rutledge  27   Male            White     April    2  2015   \n",
       "2         Aaron Siler  26   Male            White     March   14  2015   \n",
       "3        Aaron Valdez  25   Male  Hispanic/Latino     March   11  2015   \n",
       "4        Adam Jovicic  29   Male            White     March   19  2015   \n",
       "\n",
       "            streetaddress          city state    ...     share_hispanic  \\\n",
       "0            Clearview Ln     Millbrook    AL    ...                5.6   \n",
       "1  300 block Iris Park Dr     Pineville    LA    ...                0.5   \n",
       "2    22nd Ave and 56th St       Kenosha    WI    ...               16.8   \n",
       "3       3000 Seminole Ave    South Gate    CA    ...               98.8   \n",
       "4          364 Hiwood Ave  Munroe Falls    OH    ...                1.7   \n",
       "\n",
       "   p_income  h_income  county_income  comp_income  county_bucket  nat_bucket  \\\n",
       "0     28375   51367.0          54766     0.937936            3.0         3.0   \n",
       "1     14678   27972.0          40930     0.683411            2.0         1.0   \n",
       "2     25286   45365.0          54930     0.825869            2.0         3.0   \n",
       "3     17194   48295.0          55909     0.863814            3.0         3.0   \n",
       "4     33954   68785.0          49669     1.384868            5.0         4.0   \n",
       "\n",
       "    pov     urate   college  \n",
       "0  14.1  0.097686  0.168510  \n",
       "1  28.8  0.065724  0.111402  \n",
       "2  14.6  0.166293  0.147312  \n",
       "3  11.7  0.124827  0.050133  \n",
       "4   1.9  0.063550  0.403954  \n",
       "\n",
       "[5 rows x 34 columns]"
      ]
     },
     "execution_count": 6,
     "metadata": {},
     "output_type": "execute_result"
    }
   ],
   "source": [
    "%matplotlib inline\n",
    "import pandas as pd\n",
    "import numpy as np\n",
    "import matplotlib.pyplot as plt\n",
    "\n",
    "police_killings = pd.read_csv('police_killings.csv', encoding='latin1')\n",
    "\n",
    "police_killings.head()"
   ]
  },
  {
   "cell_type": "code",
   "execution_count": 13,
   "metadata": {
    "collapsed": false
   },
   "outputs": [
    {
     "data": {
      "image/png": "[encoded data removed]",
      "text/plain": [
       "<matplotlib.figure.Figure at 0x2f0d04336d8>"
      ]
     },
     "metadata": {},
     "output_type": "display_data"
    }
   ],
   "source": [
    "# Count how many times each race appears in the data set\n",
    "count_by_race = police_killings['raceethnicity'].value_counts()\n",
    "\n",
    "\n",
    "# This plot shows total number of people killed by race\n",
    "plt.grid(zorder=0)\n",
    "plt.bar(range(6), count_by_race, zorder=3)\n",
    "plt.title(\"Total Number of Police Shootings by Race\", \n",
    "         fontsize=15, y=1.08)\n",
    "race_labels = ['White', 'Black', 'Latino', 'Unknown', 'Asian', 'Native']\n",
    "plt.xticks(np.arange(0,6,1)+0.35, race_labels)\n",
    "plt.show()"
   ]
  },
  {
   "cell_type": "markdown",
   "metadata": {},
   "source": [
    "This graph shows the total number of citizens killed by police in the United States by race. Whites account for the greatest number of citizens killed but are also the racial demographic with the largest population. It would be more interesting to see a comparison between the percentage of the population for which each race group represents and their percent share of police killings."
   ]
  },
  {
   "cell_type": "code",
   "execution_count": 12,
   "metadata": {
    "collapsed": false
   },
   "outputs": [
    {
     "data": {
      "image/png": "[encoded data removed]",
      "text/plain": [
       "<matplotlib.figure.Figure at 0x2f0d133ff60>"
      ]
     },
     "metadata": {},
     "output_type": "display_data"
    }
   ],
   "source": [
    "# https://en.wikipedia.org/wiki/Demography_of_the_United_States#Race_and_ethnicity\n",
    "us_race_demo = {'Asian/Pacific Islander': 0.049,\n",
    "                'Black': 0.122,\n",
    "                'Hispanic/Latino': 0.163 ,\n",
    "                'Native American': 0.007,\n",
    "                'Unknown': 0.022,\n",
    "                'White': 0.637}\n",
    "\n",
    "# Creating a pd Series and sorting to prep for a DataFrame                \n",
    "race_demo_ser = pd.Series(us_race_demo)\n",
    "race_demo_ser = race_demo_ser.sort_index()\n",
    "percent_of_killings = count_by_race / sum(count_by_race)\n",
    "percent_of_killings = percent_of_killings.sort_index()\n",
    "\n",
    "# Combining the Series, sorting new DataFrame by Demography\n",
    "percentages = pd.concat([percent_of_killings, race_demo_ser], axis=1)\n",
    "percentages.columns = ['Percent Killed', 'Demography']\n",
    "percentages = percentages.sort_values(by='Demography', ascending=False)\n",
    "races = percentages.index.tolist()\n",
    "\n",
    "# Plotting the graph\n",
    "fig = plt.figure()\n",
    "ax1 = fig.add_subplot(1,1,1)\n",
    "ax2 = fig.add_subplot(1,1,1)\n",
    "\n",
    "offset = np.arange(6) + 0.35\n",
    "plt.grid(zorder=0)\n",
    "bar1 = ax1.bar(range(6), percentages['Demography'], width=0.35, color='red', zorder=3)\n",
    "bar2 = ax2.bar(offset, percentages['Percent Killed'], width=0.35, zorder=3)\n",
    "plt.title(\"Percent of Race Population vs. Percent of Police Shootings\", \n",
    "         fontsize=15, y=1.08)\n",
    "plt.xlabel('Race')\n",
    "plt.ylabel('Percent')\n",
    "xlabels = [\"White\", \"Latino\", \"Black\", \"Asian\", \"Unknown\", \"Native\"]\n",
    "plt.xticks(np.arange(0.30,6.30, 1), xlabels, rotation= 0)\n",
    "plt.legend((bar1, bar2), ('Percentage of US population', 'Percent of police killings'), loc='upper right')\n",
    "\n",
    "plt.show()"
   ]
  },
  {
   "cell_type": "markdown",
   "metadata": {},
   "source": [
    "This graph is far more revealing. We can see that whites account for roughly 63% of the American population yet only make up 50% of those killed by police. Blacks are disproportionately over-represented with over double the amount of citizens killed by police in comparsion to their share of the American population. \n",
    "\n",
    "While the disparity in representation between whites and blacks is shocking, it is not surprising given the United States' history of institutional racism. Going forward, we will further examine areas in which differences in power in socioeconomic terms may manifest itself. We will start by comparing whites and blacks by the median personal income for the census tract where the person-killed lived. "
   ]
  },
  {
   "cell_type": "code",
   "execution_count": 47,
   "metadata": {
    "collapsed": false
   },
   "outputs": [
    {
     "data": {
      "image/png": "[encoded data removed]",
      "text/plain": [
       "<matplotlib.figure.Figure at 0x2f0d0c97d30>"
      ]
     },
     "metadata": {},
     "output_type": "display_data"
    },
    {
     "name": "stdout",
     "output_type": "stream",
     "text": [
      "Black Median Income:  21008.0\n",
      "White Median Income:  23525.0\n"
     ]
    }
   ],
   "source": [
    "# Get income data. Create a dataframe that does not contain strings. \n",
    "income = police_killings[police_killings['p_income'] != '-']\n",
    "\n",
    "\n",
    "income.is_copy = False # Avoid SettingWithCopyWarning\n",
    "income['p_income'] = income['p_income'].astype(int)\n",
    "\n",
    "#plt.hist(income['p_income'], bins=np.arange(0,100000,5000))\n",
    "black_income = income['p_income'][income['raceethnicity'] == 'Black']\n",
    "black_income.sort_values(inplace=True, ascending=True)\n",
    "black_income = black_income[1:-1]\n",
    "white_income = income['p_income'][income['raceethnicity'] == 'White']\n",
    "\n",
    "fig = plt.figure()\n",
    "ax1 = fig.add_subplot(1,1,1)\n",
    "ax2 = fig.add_subplot(1,1,1)\n",
    "\n",
    "bar1 = ax1.hist(white_income, bins=np.arange(0,100000,5000), label='Whites', zorder=3)\n",
    "bar2 = ax2.hist(black_income, bins=np.arange(0,100000,5000), label='Blacks', color='red',zorder=3)\n",
    "plt.grid(zorder=0)\n",
    "plt.title('Tract-level median personal income by race')\n",
    "plt.xlabel('Income')\n",
    "plt.ylabel('Frequency')\n",
    "plt.legend( loc='upper right')\n",
    "plt.show()\n",
    "\n",
    "print(\"Black Tract-Level Median Income: \" , np.median(black_income))\n",
    "print(\"White Tract-Level Median Income: \" , np.median(white_income))\n"
   ]
  },
  {
   "cell_type": "markdown",
   "metadata": {},
   "source": [
    "The histogram for white median incomes has a leptokurtic shape while the histogram for black incomes is somewhat platykurtic. No significance testing was done as a part of this guided project but it would be interesting to see if there is a statistical difference between the two groups. \n",
    "\n",
    "Next, we will look at the racial demography of the states in which these these incidents occurred. We will begin by finding the top and bottom 10 states in terms of police killing rate."
   ]
  },
  {
   "cell_type": "code",
   "execution_count": 65,
   "metadata": {
    "collapsed": false
   },
   "outputs": [
    {
     "name": "stdout",
     "output_type": "stream",
     "text": [
      "Ten most violent states\n",
      "NAME\n",
      "Oklahoma      5.624674\n",
      "Arizona       3.661359\n",
      "Nebraska      3.164240\n",
      "Hawaii        2.794071\n",
      "Alaska        2.708442\n",
      "Idaho         2.417021\n",
      "New Mexico    2.397956\n",
      "Louisiana     2.355095\n",
      "Colorado      2.199182\n",
      "Delaware      2.114312\n",
      "Name: rate, dtype: float64\n",
      "\n",
      "\n",
      "Ten least violent states\n",
      "NAME\n",
      "Connecticut      0.278483\n",
      "Pennsylvania     0.546768\n",
      "Iowa             0.640226\n",
      "New York         0.656705\n",
      "Massachusetts    0.735898\n",
      "New Hampshire    0.751536\n",
      "Maine            0.752260\n",
      "Illinois         0.855366\n",
      "Ohio             0.861073\n",
      "Wisconsin        0.866350\n",
      "Name: rate, dtype: float64\n"
     ]
    }
   ],
   "source": [
    "# Read in demography data set, count killings by state code and combine the datasets\n",
    "state_pop = pd.read_csv('state_population.csv')\n",
    "counts = police_killings['state_fp'].value_counts()\n",
    "states = pd.DataFrame({\"STATE\": counts.index, \"killings\": counts})\n",
    "states.reset_index(drop=True, inplace=True)\n",
    "states = states.merge(state_pop, how='left', on='STATE', copy=False)\n",
    "\n",
    "# Setting index to the name of the states\n",
    "states.set_index(\"NAME\", inplace=True)\n",
    "\n",
    "# Create a rate statistic showing police killing per million people\n",
    "states['pop_millions'] = states['POPESTIMATE2015'] /1000000\n",
    "states['rate'] = states['killings'] / states['pop_millions']\n",
    "\n",
    "top_ten = states['rate'].sort_values(ascending=False)\n",
    "bottom_ten = states['rate'].sort_values(ascending=True)\n",
    "\n",
    "print('Ten most violent states')\n",
    "print(top_ten[0:10])\n",
    "print('\\n')\n",
    "print('Ten least violent states')\n",
    "print(bottom_ten[0:10])"
   ]
  },
  {
   "cell_type": "markdown",
   "metadata": {},
   "source": [
    "Now that we've isolated the most and least violent states in terms of police killings, we will look at the average tract population, county median income, and the tract-level percent share of whites, blacks, and hispanics in the ten most and least police-violent states."
   ]
  },
  {
   "cell_type": "code",
   "execution_count": 66,
   "metadata": {
    "collapsed": false
   },
   "outputs": [
    {
     "name": "stdout",
     "output_type": "stream",
     "text": [
      "States with the low police killing rates\n",
      "pop                4153.472727\n",
      "county_income     55037.963636\n",
      "share_white          60.132727\n",
      "share_black          21.610909\n",
      "share_hispanic       12.994545\n",
      "dtype: float64\n",
      "\n",
      "\n",
      "States with the highest police killing rates\n",
      "pop                4315.750000\n",
      "county_income     48706.967391\n",
      "share_white          55.652174\n",
      "share_black          11.532609\n",
      "share_hispanic       20.693478\n",
      "dtype: float64\n"
     ]
    }
   ],
   "source": [
    "# Creating a new Dataframe just containing the shares of whites, blacks, and hispanics\n",
    "pk = police_killings[\n",
    "                (police_killings['share_white'] != '-') &\n",
    "                (police_killings['share_black'] != '-') &\n",
    "                (police_killings['share_hispanic'] != '-')]\n",
    "pk.is_copy = False\n",
    "pk['share_white'] = pk['share_white'].astype(float)\n",
    "pk['share_black'] = pk['share_black'].astype(float)\n",
    "pk['share_hispanic'] = pk['share_hispanic'].astype(float)\n",
    "\n",
    "\n",
    "# The top ten states, high and low, have been grouped by their FP codes.\n",
    "highest_rates = [40, 4, 31, 15, 2, 16, 35, 22, 8, 10]\n",
    "lowest_rates = [55, 39, 17, 23, 33, 25, 36, 19, 42, 9]\n",
    "\n",
    "# Creating DataFrames for entries with states in one of the top tens\n",
    "lowest_states = pk[pk.state_fp.isin(lowest_rates)]\n",
    "highest_states = pk[pk.state_fp.isin(highest_rates)]               \n",
    "print('States with the low police killing rates')\n",
    "print(lowest_states[['pop','county_income','share_white','share_black','share_hispanic']].mean())\n",
    "print('\\n')\n",
    "print('States with the highest police killing rates')\n",
    "print(highest_states[['pop','county_income','share_white','share_black','share_hispanic']].mean())\n"
   ]
  },
  {
   "cell_type": "markdown",
   "metadata": {},
   "source": [
    "By grouping the highest and lowest police violence states and calculating the average share of citizens by race, we see that there is a pretty significant difference in the representation of black citizens between these two groups of states. This is where the guided project ended and it left us with some interesting questions. For instance, this data seems to suggest that when there are fewer black citizens in a community, there is a loss of political and social power that may protect them from fatal actions prepetrated by racist police officers. However, as seen previously, there are more whites killed in total by police and the above tables do not examine where members of each race are being killed. It just looks at where police have killed citizens. It would be interesting in the future to examine what the average demography is when the data has been split by race."
   ]
  }
 ],
 "metadata": {
  "anaconda-cloud": {},
  "kernelspec": {
   "display_name": "Python [default]",
   "language": "python",
   "name": "python3"
  },
  "language_info": {
   "codemirror_mode": {
    "name": "ipython",
    "version": 3
   },
   "file_extension": ".py",
   "mimetype": "text/x-python",
   "name": "python",
   "nbconvert_exporter": "python",
   "pygments_lexer": "ipython3",
   "version": "3.5.3"
  }
 },
 "nbformat": 4,
 "nbformat_minor": 0
}
