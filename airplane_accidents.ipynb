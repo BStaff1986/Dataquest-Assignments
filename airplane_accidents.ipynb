{
 "cells": [
  {
   "cell_type": "markdown",
   "metadata": {},
   "source": [
    "# Investigating Airplane Accidents\n",
    "\n",
    "In this Guided Assignment, we will clean and explore a dataset containing details about airplane accidents between January 1982 to September 2015.\n",
    "\n",
    "The data provided for this assignment came in a text file where each entry was delimited by a new line. Each data point was separated by a pipe character. So, the first order of business will be to do some preliminary cleaning to get the data into a structure that we can work with. "
   ]
  },
  {
   "cell_type": "code",
   "execution_count": 35,
   "metadata": {
    "collapsed": false
   },
   "outputs": [
    {
     "name": "stdout",
     "output_type": "stream",
     "text": [
      "20150908X74637 | Accident | CEN15LA402 | 09/08/2015 | Freeport, IL | United States | 42.246111 | -89.581945 | KFEP | albertus Airport | Non-Fatal | Substantial | Unknown | N24TL | CLARKE REGINALD W | DRAGONFLY MK |  |  |  | Part 91: General Aviation |  | Personal |  |  | 1 |  |  | VMC | TAKEOFF | Preliminary | 09/09/2015 | \n",
      "\n",
      "['20150908X74637', 'Accident', 'CEN15LA402', '09/08/2015', 'Freeport, IL', 'United States', '42.246111', '-89.581945', 'KFEP', 'albertus Airport', 'Non-Fatal', 'Substantial', 'Unknown', 'N24TL', 'CLARKE REGINALD W', 'DRAGONFLY MK', '', '', '', 'Part 91: General Aviation', '', 'Personal', '', '', '1', '', '', 'VMC', 'TAKEOFF', 'Preliminary', '09/09/2015', '']\n"
     ]
    }
   ],
   "source": [
    "aviation_list = []\n",
    "aviation_data = []\n",
    "\n",
    "with open('AviationData.txt', 'r') as file:\n",
    "    for line in file:\n",
    "        aviation_data.append(line)\n",
    "        text = line.split('|')\n",
    "        words = []\n",
    "        for word in text:\n",
    "            word = word.strip()\n",
    "            words.append(word)\n",
    "        aviation_list.append(words)\n",
    "\n",
    "print(aviation_data[1]) # 0th row contains the headers\n",
    "        \n",
    "print(aviation_list[1])"
   ]
  },
  {
   "cell_type": "markdown",
   "metadata": {},
   "source": [
    "The data is improved but not yet in a form that makes it particularly useful."
   ]
  },
  {
   "cell_type": "code",
   "execution_count": 36,
   "metadata": {
    "collapsed": false
   },
   "outputs": [
    {
     "name": "stdout",
     "output_type": "stream",
     "text": [
      "['20001218X45447', 'Accident', 'LAX94LA336', '07/19/1962', 'BRIDGEPORT, CA', 'United States', '', '', '', '', 'Fatal(4)', 'Destroyed', '', 'N5069P', 'PIPER', 'PA24-180', 'No', '1', 'Reciprocating', '', '', 'Personal', '', '4', '0', '0', '0', 'UNK', 'UNKNOWN', 'Probable Cause', '09/19/1996', '']\n"
     ]
    }
   ],
   "source": [
    "def linear_search(code):\n",
    "    lax_code = []    \n",
    "    for row in aviation_list:\n",
    "        for item in row:\n",
    "            if item == code:\n",
    "                lax_code.append(row)\n",
    "    return lax_code\n",
    "\n",
    "\n",
    "lin_search = linear_search('LAX94LA336')\n",
    "\n",
    "print(lin_search[0])"
   ]
  },
  {
   "cell_type": "markdown",
   "metadata": {},
   "source": [
    "We are able to search the data for a particular value but the row we are returned is still pretty meaningless. "
   ]
  },
  {
   "cell_type": "code",
   "execution_count": 37,
   "metadata": {
    "collapsed": false
   },
   "outputs": [
    {
     "data": {
      "text/plain": [
       "{'': '',\n",
       " 'Accident Number': 'ERA15LA339',\n",
       " 'Air Carrier': '',\n",
       " 'Aircraft Category': 'Weight-Shift',\n",
       " 'Aircraft Damage': 'Substantial',\n",
       " 'Airport Code': 'LCI',\n",
       " 'Airport Name': 'Laconia Municipal Airport',\n",
       " 'Amateur Built': 'No',\n",
       " 'Broad Phase of Flight': 'MANEUVERING',\n",
       " 'Country': 'United States',\n",
       " 'Engine Type': 'Reciprocating',\n",
       " 'Event Date': '09/05/2015',\n",
       " 'Event Id': '20150906X32704',\n",
       " 'FAR Description': 'Part 91: General Aviation',\n",
       " 'Injury Severity': 'Fatal(1)',\n",
       " 'Investigation Type': 'Accident',\n",
       " 'Latitude': '43.606389',\n",
       " 'Location': 'Laconia, NH',\n",
       " 'Longitude': '-71.452778',\n",
       " 'Make': 'EVOLUTION AIRCRAFT INC',\n",
       " 'Model': 'REVO',\n",
       " 'Number of Engines': '1',\n",
       " 'Publication Date': '09/10/2015',\n",
       " 'Purpose of Flight': 'Personal',\n",
       " 'Registration Number': 'N2264X',\n",
       " 'Report Status': 'Preliminary',\n",
       " 'Schedule': '',\n",
       " 'Total Fatal Injuries': '1',\n",
       " 'Total Minor Injuries': '',\n",
       " 'Total Serious Injuries': '',\n",
       " 'Total Uninjured': '',\n",
       " 'Weather Condition': 'VMC'}"
      ]
     },
     "execution_count": 37,
     "metadata": {},
     "output_type": "execute_result"
    }
   ],
   "source": [
    "def dictionary(l):\n",
    "    # Clean input and create a list of keys for a dictionary    \n",
    "    not_yet_keys = l[0].split('|')\n",
    "    keys = []\n",
    "    for key in not_yet_keys:\n",
    "        key = key.strip()\n",
    "        keys.append(key)\n",
    "    \n",
    "    # Get the values for the keys\n",
    "    values = []\n",
    "    for n in range(1, len(l)):\n",
    "        not_yet_values = l[n].split('|')\n",
    "        clean_values = []\n",
    "        for value in not_yet_values:\n",
    "            value = value.strip()\n",
    "            clean_values.append(value)\n",
    "        values.append(clean_values)\n",
    "     \n",
    "    # Pair the values to the keys\n",
    "    aviation_dict_list = []\n",
    "    for y in range(0, len(values)):\n",
    "        paired = {}\n",
    "        for x in range(0, len(keys)):        \n",
    "            paired[keys[x]] = values[y][x]\n",
    "        aviation_dict_list.append(paired)    \n",
    "    return aviation_dict_list\n",
    "        \n",
    "\n",
    "        \n",
    "aviation_dict_list = dictionary(aviation_data)\n",
    "aviation_dict_list[1]"
   ]
  },
  {
   "cell_type": "markdown",
   "metadata": {},
   "source": [
    "The headers are now associated with their values. We can search this new dictionary again for the same \"LAX94LA336\" incident from before."
   ]
  },
  {
   "cell_type": "code",
   "execution_count": 38,
   "metadata": {
    "collapsed": false
   },
   "outputs": [
    {
     "data": {
      "text/plain": [
       "{'': '',\n",
       " 'Accident Number': 'LAX94LA336',\n",
       " 'Air Carrier': '',\n",
       " 'Aircraft Category': '',\n",
       " 'Aircraft Damage': 'Destroyed',\n",
       " 'Airport Code': '',\n",
       " 'Airport Name': '',\n",
       " 'Amateur Built': 'No',\n",
       " 'Broad Phase of Flight': 'UNKNOWN',\n",
       " 'Country': 'United States',\n",
       " 'Engine Type': 'Reciprocating',\n",
       " 'Event Date': '07/19/1962',\n",
       " 'Event Id': '20001218X45447',\n",
       " 'FAR Description': '',\n",
       " 'Injury Severity': 'Fatal(4)',\n",
       " 'Investigation Type': 'Accident',\n",
       " 'Latitude': '',\n",
       " 'Location': 'BRIDGEPORT, CA',\n",
       " 'Longitude': '',\n",
       " 'Make': 'PIPER',\n",
       " 'Model': 'PA24-180',\n",
       " 'Number of Engines': '1',\n",
       " 'Publication Date': '09/19/1996',\n",
       " 'Purpose of Flight': 'Personal',\n",
       " 'Registration Number': 'N5069P',\n",
       " 'Report Status': 'Probable Cause',\n",
       " 'Schedule': '',\n",
       " 'Total Fatal Injuries': '4',\n",
       " 'Total Minor Injuries': '0',\n",
       " 'Total Serious Injuries': '0',\n",
       " 'Total Uninjured': '0',\n",
       " 'Weather Condition': 'UNK'}"
      ]
     },
     "execution_count": 38,
     "metadata": {},
     "output_type": "execute_result"
    }
   ],
   "source": [
    "def dict_search(dict_list, target):\n",
    "    lax_dict = []\n",
    "    for x in range(0, len(dict_list)):\n",
    "        for value in dict_list[x].values():\n",
    "            if value == target:\n",
    "                lax_dict.append(dict_list[x])\n",
    "    return lax_dict\n",
    "\n",
    "\n",
    "lax_dict = dict_search(aviation_dict_list, \"LAX94LA336\")\n",
    "\n",
    "lax_dict[0]"
   ]
  },
  {
   "cell_type": "markdown",
   "metadata": {},
   "source": [
    "# Explore the Data\n",
    "\n",
    "Now that our data has been better formatted we can begin doing exploratory analysis. "
   ]
  },
  {
   "cell_type": "code",
   "execution_count": 39,
   "metadata": {
    "collapsed": false
   },
   "outputs": [
    {
     "data": {
      "text/plain": [
       "[('CA', 8032), ('FL', 5118), ('TX', 5112), ('AK', 5049), ('AZ', 2502)]"
      ]
     },
     "execution_count": 39,
     "metadata": {},
     "output_type": "execute_result"
    }
   ],
   "source": [
    "from collections import Counter\n",
    "\n",
    "def most_state_accidents(data):\n",
    "    state_accidents = []\n",
    "    for x in range(0, len(data)):\n",
    "        state_accidents.append(data[x]['Location'][-2:])\n",
    "    state_count = Counter(state_accidents)\n",
    "    return state_accidents, state_count.most_common(5)\n",
    "\n",
    "state_accidents, accident_prone_states = most_state_accidents(aviation_dict_list)\n",
    "\n",
    "accident_prone_states"
   ]
  },
  {
   "cell_type": "markdown",
   "metadata": {},
   "source": [
    "The states with the highest number of aiplane accidents are: California, Flordia, Texas, Alaska, and Arizona. Unfortunately, this dataset does not have the number of successful plane rides/flight hours and so we cannot create a rate statistic for a more fair comparison between states.\n",
    "\n",
    "Next, we will look at which months have the most accidents."
   ]
  },
  {
   "cell_type": "code",
   "execution_count": 40,
   "metadata": {
    "collapsed": false
   },
   "outputs": [
    {
     "data": {
      "text/plain": [
       "[('July 1982', 433), ('August 1983', 421), ('July 1983', 413)]"
      ]
     },
     "execution_count": 40,
     "metadata": {},
     "output_type": "execute_result"
    }
   ],
   "source": [
    "def worst_month_accidents(data):\n",
    "    months = []\n",
    "    change_month = {\"01\":\"January\",\n",
    "                    \"02\":\"February\",\n",
    "                    \"03\":\"March\",\n",
    "                    \"04\":\"April\",\n",
    "                    \"05\":\"May\",\n",
    "                    \"06\":\"June\",\n",
    "                    \"07\":\"July\",\n",
    "                    \"08\":\"August\",\n",
    "                    \"09\":\"September\",\n",
    "                    \"10\":\"October\",\n",
    "                    \"11\":\"November\",\n",
    "                    \"12\":\"December\"}\n",
    "    \n",
    "    for x in range(0, len(data)):\n",
    "        month = data[x]['Event Date'][0:2]\n",
    "        try:\n",
    "            month = change_month[month]\n",
    "        except KeyError:\n",
    "            month = data[x]['Event Id'][4:6]\n",
    "            month = change_month[month]\n",
    "        if data[x]['Event Date'] != '':\n",
    "            year = data[x]['Event Date'][-4:]\n",
    "        else:\n",
    "            year = data[x]['Event Id'][0:4]\n",
    "        months.append(month + ' ' + year)\n",
    "        \n",
    "    worst_months = Counter(months)\n",
    "    return worst_months, worst_months.most_common(3)\n",
    "\n",
    "month_count_accidents, worst_3_months_acc = worst_month_accidents(aviation_dict_list)\n",
    "\n",
    "worst_3_months_acc"
   ]
  },
  {
   "cell_type": "markdown",
   "metadata": {},
   "source": [
    "The months with the most accidents are in the dead of summer and come at the beginning of our dataset. Next we will see if these months are also the ones that had the most injuries."
   ]
  },
  {
   "cell_type": "code",
   "execution_count": 41,
   "metadata": {
    "collapsed": false
   },
   "outputs": [
    {
     "data": {
      "text/plain": [
       "[('January 2007', 102), ('July 2002', 71), ('November 1993', 5)]"
      ]
     },
     "execution_count": 41,
     "metadata": {},
     "output_type": "execute_result"
    }
   ],
   "source": [
    "def worst_month_injuries(data):\n",
    "    injuries_by_month = {}\n",
    "    change_month = {\"01\":\"January\",\n",
    "                    \"02\":\"February\",\n",
    "                    \"03\":\"March\",\n",
    "                    \"04\":\"April\",\n",
    "                    \"05\":\"May\",\n",
    "                    \"06\":\"June\",\n",
    "                    \"07\":\"July\",\n",
    "                    \"08\":\"August\",\n",
    "                    \"09\":\"September\",\n",
    "                    \"10\":\"October\",\n",
    "                    \"11\":\"November\",\n",
    "                    \"12\":\"December\"}\n",
    "    for x in range(0, len(data)):\n",
    "        injuries = 0\n",
    "        month = data[x]['Event Date'][0:2]\n",
    "        try: \n",
    "            month = change_month[month]\n",
    "        except KeyError:\n",
    "            month = data[x]['Event Id'][4:6]\n",
    "            month = change_month[month]\n",
    "        if data[x]['Event Date'] != '':\n",
    "            year = data[x]['Event Date'][-4:]\n",
    "        else:\n",
    "            year = data[x]['Event Id'][0:4]\n",
    "        month = month + ' ' + year\n",
    "        fatal = data[x]['Total Fatal Injuries']\n",
    "        serious = data[x]['Total Serious Injuries']\n",
    "        # Skip the blanks        \n",
    "        if fatal:\n",
    "            injuries += int(fatal)\n",
    "        if serious:\n",
    "            injuries += int(serious)\n",
    "        injuries_by_month[month] = injuries\n",
    "        injuries_by_month = Counter(injuries_by_month)        \n",
    "        \n",
    "    return injuries_by_month, injuries_by_month.most_common(3)\n",
    "           \n",
    "month_count_injuries, worst_3_months_inj  = worst_month_injuries(aviation_dict_list)\n",
    "\n",
    "worst_3_months_inj"
   ]
  },
  {
   "cell_type": "markdown",
   "metadata": {},
   "source": [
    "Interestingly, the 3 worst months for injuries are not the same as the 3 worst months for accidents! \n",
    "\n",
    "There are many more questions to explore with this data. It would be interesting to see the number of injuries or accidents in a time series chart to see if there is any trend. A histogram showing the frequency of injuries and accidents in each month of the year would show if there is any reason to suspect season effects. "
   ]
  }
 ],
 "metadata": {
  "anaconda-cloud": {},
  "kernelspec": {
   "display_name": "Python [default]",
   "language": "python",
   "name": "python3"
  },
  "language_info": {
   "codemirror_mode": {
    "name": "ipython",
    "version": 3
   },
   "file_extension": ".py",
   "mimetype": "text/x-python",
   "name": "python",
   "nbconvert_exporter": "python",
   "pygments_lexer": "ipython3",
   "version": "3.5.3"
  }
 },
 "nbformat": 4,
 "nbformat_minor": 2
}
