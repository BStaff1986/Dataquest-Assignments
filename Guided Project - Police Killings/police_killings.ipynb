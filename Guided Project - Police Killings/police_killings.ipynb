{
 "cells": [
  {
   "cell_type": "code",
   "execution_count": 2,
   "metadata": {
    "collapsed": false
   },
   "outputs": [
    {
     "data": {
      "text/html": [
       "<div>\n",
       "<table border=\"1\" class=\"dataframe\">\n",
       "  <thead>\n",
       "    <tr style=\"text-align: right;\">\n",
       "      <th></th>\n",
       "      <th>name</th>\n",
       "      <th>age</th>\n",
       "      <th>gender</th>\n",
       "      <th>raceethnicity</th>\n",
       "      <th>month</th>\n",
       "      <th>day</th>\n",
       "      <th>year</th>\n",
       "      <th>streetaddress</th>\n",
       "      <th>city</th>\n",
       "      <th>state</th>\n",
       "      <th>...</th>\n",
       "      <th>share_hispanic</th>\n",
       "      <th>p_income</th>\n",
       "      <th>h_income</th>\n",
       "      <th>county_income</th>\n",
       "      <th>comp_income</th>\n",
       "      <th>county_bucket</th>\n",
       "      <th>nat_bucket</th>\n",
       "      <th>pov</th>\n",
       "      <th>urate</th>\n",
       "      <th>college</th>\n",
       "    </tr>\n",
       "  </thead>\n",
       "  <tbody>\n",
       "    <tr>\n",
       "      <th>0</th>\n",
       "      <td>A'donte Washington</td>\n",
       "      <td>16</td>\n",
       "      <td>Male</td>\n",
       "      <td>Black</td>\n",
       "      <td>February</td>\n",
       "      <td>23</td>\n",
       "      <td>2015</td>\n",
       "      <td>Clearview Ln</td>\n",
       "      <td>Millbrook</td>\n",
       "      <td>AL</td>\n",
       "      <td>...</td>\n",
       "      <td>5.6</td>\n",
       "      <td>28375</td>\n",
       "      <td>51367.0</td>\n",
       "      <td>54766</td>\n",
       "      <td>0.937936</td>\n",
       "      <td>3.0</td>\n",
       "      <td>3.0</td>\n",
       "      <td>14.1</td>\n",
       "      <td>0.097686</td>\n",
       "      <td>0.168510</td>\n",
       "    </tr>\n",
       "    <tr>\n",
       "      <th>1</th>\n",
       "      <td>Aaron Rutledge</td>\n",
       "      <td>27</td>\n",
       "      <td>Male</td>\n",
       "      <td>White</td>\n",
       "      <td>April</td>\n",
       "      <td>2</td>\n",
       "      <td>2015</td>\n",
       "      <td>300 block Iris Park Dr</td>\n",
       "      <td>Pineville</td>\n",
       "      <td>LA</td>\n",
       "      <td>...</td>\n",
       "      <td>0.5</td>\n",
       "      <td>14678</td>\n",
       "      <td>27972.0</td>\n",
       "      <td>40930</td>\n",
       "      <td>0.683411</td>\n",
       "      <td>2.0</td>\n",
       "      <td>1.0</td>\n",
       "      <td>28.8</td>\n",
       "      <td>0.065724</td>\n",
       "      <td>0.111402</td>\n",
       "    </tr>\n",
       "    <tr>\n",
       "      <th>2</th>\n",
       "      <td>Aaron Siler</td>\n",
       "      <td>26</td>\n",
       "      <td>Male</td>\n",
       "      <td>White</td>\n",
       "      <td>March</td>\n",
       "      <td>14</td>\n",
       "      <td>2015</td>\n",
       "      <td>22nd Ave and 56th St</td>\n",
       "      <td>Kenosha</td>\n",
       "      <td>WI</td>\n",
       "      <td>...</td>\n",
       "      <td>16.8</td>\n",
       "      <td>25286</td>\n",
       "      <td>45365.0</td>\n",
       "      <td>54930</td>\n",
       "      <td>0.825869</td>\n",
       "      <td>2.0</td>\n",
       "      <td>3.0</td>\n",
       "      <td>14.6</td>\n",
       "      <td>0.166293</td>\n",
       "      <td>0.147312</td>\n",
       "    </tr>\n",
       "    <tr>\n",
       "      <th>3</th>\n",
       "      <td>Aaron Valdez</td>\n",
       "      <td>25</td>\n",
       "      <td>Male</td>\n",
       "      <td>Hispanic/Latino</td>\n",
       "      <td>March</td>\n",
       "      <td>11</td>\n",
       "      <td>2015</td>\n",
       "      <td>3000 Seminole Ave</td>\n",
       "      <td>South Gate</td>\n",
       "      <td>CA</td>\n",
       "      <td>...</td>\n",
       "      <td>98.8</td>\n",
       "      <td>17194</td>\n",
       "      <td>48295.0</td>\n",
       "      <td>55909</td>\n",
       "      <td>0.863814</td>\n",
       "      <td>3.0</td>\n",
       "      <td>3.0</td>\n",
       "      <td>11.7</td>\n",
       "      <td>0.124827</td>\n",
       "      <td>0.050133</td>\n",
       "    </tr>\n",
       "    <tr>\n",
       "      <th>4</th>\n",
       "      <td>Adam Jovicic</td>\n",
       "      <td>29</td>\n",
       "      <td>Male</td>\n",
       "      <td>White</td>\n",
       "      <td>March</td>\n",
       "      <td>19</td>\n",
       "      <td>2015</td>\n",
       "      <td>364 Hiwood Ave</td>\n",
       "      <td>Munroe Falls</td>\n",
       "      <td>OH</td>\n",
       "      <td>...</td>\n",
       "      <td>1.7</td>\n",
       "      <td>33954</td>\n",
       "      <td>68785.0</td>\n",
       "      <td>49669</td>\n",
       "      <td>1.384868</td>\n",
       "      <td>5.0</td>\n",
       "      <td>4.0</td>\n",
       "      <td>1.9</td>\n",
       "      <td>0.063550</td>\n",
       "      <td>0.403954</td>\n",
       "    </tr>\n",
       "  </tbody>\n",
       "</table>\n",
       "<p>5 rows × 34 columns</p>\n",
       "</div>"
      ],
      "text/plain": [
       "                 name age gender    raceethnicity     month  day  year  \\\n",
       "0  A'donte Washington  16   Male            Black  February   23  2015   \n",
       "1      Aaron Rutledge  27   Male            White     April    2  2015   \n",
       "2         Aaron Siler  26   Male            White     March   14  2015   \n",
       "3        Aaron Valdez  25   Male  Hispanic/Latino     March   11  2015   \n",
       "4        Adam Jovicic  29   Male            White     March   19  2015   \n",
       "\n",
       "            streetaddress          city state    ...     share_hispanic  \\\n",
       "0            Clearview Ln     Millbrook    AL    ...                5.6   \n",
       "1  300 block Iris Park Dr     Pineville    LA    ...                0.5   \n",
       "2    22nd Ave and 56th St       Kenosha    WI    ...               16.8   \n",
       "3       3000 Seminole Ave    South Gate    CA    ...               98.8   \n",
       "4          364 Hiwood Ave  Munroe Falls    OH    ...                1.7   \n",
       "\n",
       "   p_income  h_income  county_income  comp_income  county_bucket  nat_bucket  \\\n",
       "0     28375   51367.0          54766     0.937936            3.0         3.0   \n",
       "1     14678   27972.0          40930     0.683411            2.0         1.0   \n",
       "2     25286   45365.0          54930     0.825869            2.0         3.0   \n",
       "3     17194   48295.0          55909     0.863814            3.0         3.0   \n",
       "4     33954   68785.0          49669     1.384868            5.0         4.0   \n",
       "\n",
       "    pov     urate   college  \n",
       "0  14.1  0.097686  0.168510  \n",
       "1  28.8  0.065724  0.111402  \n",
       "2  14.6  0.166293  0.147312  \n",
       "3  11.7  0.124827  0.050133  \n",
       "4   1.9  0.063550  0.403954  \n",
       "\n",
       "[5 rows x 34 columns]"
      ]
     },
     "execution_count": 2,
     "metadata": {},
     "output_type": "execute_result"
    }
   ],
   "source": [
    "import pandas as pd\n",
    "import numpy as np\n",
    "import matplotlib.pyplot as plt\n",
    "\n",
    "police_killings = pd.read_csv('police_killings.csv', encoding='latin1')\n",
    "\n",
    "police_killings.head()"
   ]
  },
  {
   "cell_type": "code",
   "execution_count": 3,
   "metadata": {
    "collapsed": false
   },
   "outputs": [
    {
     "data": {
      "image/png": "[encoded data removed]",
      "text/plain": [
       "<matplotlib.figure.Figure at 0x7f80b55a0e10>"
      ]
     },
     "metadata": {},
     "output_type": "display_data"
    },
    {
     "data": {
      "image/png": "[encoded data removed]",
      "text/plain": [
       "<matplotlib.figure.Figure at 0x7f80b553a7b8>"
      ]
     },
     "metadata": {},
     "output_type": "display_data"
    }
   ],
   "source": [
    "# Count how many times each race appears in the data set\n",
    "count_by_race = police_killings['raceethnicity'].value_counts()\n",
    "\n",
    "\n",
    "# This plot shows total number of people killed by race\n",
    "plt.bar(range(6), count_by_race)\n",
    "plt.title(\"Total Number of Police Shootings by Race\", \n",
    "         fontsize=15, y=1.08)\n",
    "race_labels = ['White', 'Black', 'Latino', 'Unknown', 'Asian', 'Native']\n",
    "plt.xticks(np.arange(0,6,1)+0.35, race_labels)\n",
    "plt.show()\n",
    "\n",
    "'''\n",
    "# To see how representative of the population this is\n",
    "# We need to compare the percentage of killings to the percentage\n",
    "# Each race represents in American society\n",
    "'''\n",
    "\n",
    "# https://en.wikipedia.org/wiki/Demography_of_the_United_States#Race_and_ethnicity\n",
    "us_race_demo = {'Asian/Pacific Islander': 0.049,\n",
    "                'Black': 0.122,\n",
    "                'Hispanic/Latino': 0.163 ,\n",
    "                'Native American': 0.007,\n",
    "                'Unknown': 0.022,\n",
    "                'White': 0.637}\n",
    "\n",
    "# Creating a pd Series and sorting to prep for a DataFrame                \n",
    "race_demo_ser = pd.Series(us_race_demo)\n",
    "race_demo_ser = race_demo_ser.sort_index()\n",
    "percent_of_killings = count_by_race / sum(count_by_race)\n",
    "percent_of_killings = percent_of_killings.sort_index()\n",
    "\n",
    "# Combining the Series, sorting new DataFrame by Demography\n",
    "percentages = pd.concat([percent_of_killings, race_demo_ser], axis=1)\n",
    "percentages.columns = ['Percent Killed', 'Demography']\n",
    "percentages = percentages.sort_values(by='Demography', ascending=False)\n",
    "races = percentages.index.tolist()\n",
    "\n",
    "# Plotting the graph\n",
    "fig = plt.figure()\n",
    "ax1 = fig.add_subplot(1,1,1)\n",
    "ax2 = fig.add_subplot(1,1,1)\n",
    "\n",
    "offset = np.arange(6) + 0.35\n",
    "bar1 = ax1.bar(range(6), percentages['Demography'], width=0.35, color='red')\n",
    "bar2 = ax2.bar(offset, percentages['Percent Killed'], width=0.35)\n",
    "plt.title(\"Percent of Race Population vs. Percent of Police Shootings\", \n",
    "         fontsize=15, y=1.08)\n",
    "plt.xlabel('Race')\n",
    "plt.ylabel('Percent')\n",
    "xlabels = [\"White\", \"Latino\", \"Black\", \"Asian\", \"Unknown\", \"Native\"]\n",
    "plt.xticks(np.arange(0.30,6.30, 1), xlabels, rotation= 0)\n",
    "plt.legend((bar1, bar2), ('Percentage of US population', 'Percent of police killings'), loc='upper right')\n",
    "plt.grid()\n",
    "plt.show()\n"
   ]
  },
  {
   "cell_type": "code",
   "execution_count": 4,
   "metadata": {
    "collapsed": false
   },
   "outputs": [
    {
     "data": {
      "image/png": "[encoded data removed]",
      "text/plain": [
       "<matplotlib.figure.Figure at 0x7f80b5447080>"
      ]
     },
     "metadata": {},
     "output_type": "display_data"
    },
    {
     "name": "stdout",
     "output_type": "stream",
     "text": [
      "Median Income:  22348.0\n"
     ]
    }
   ],
   "source": [
    "# Get income data. Create a dataframe that does not contain strings. \n",
    "income = police_killings[police_killings['p_income'] != '-']\n",
    "income.is_copy = False # Avoid SettingWithCopyWarning\n",
    "income['p_income'] = income['p_income'].astype(int)\n",
    "\n",
    "plt.hist(income['p_income'], bins=np.arange(0,100000,5000))\n",
    "plt.xlabel('Income')\n",
    "plt.ylabel('Frequency')\n",
    "plt.show()\n",
    "\n",
    "print(\"Median Income: \" , np.median(income['p_income']))\n"
   ]
  },
  {
   "cell_type": "code",
   "execution_count": 8,
   "metadata": {
    "collapsed": false
   },
   "outputs": [
    {
     "name": "stdout",
     "output_type": "stream",
     "text": [
      "Ten most violent states\n",
      "NAME\n",
      "Oklahoma      5.624674\n",
      "Arizona       3.661359\n",
      "Nebraska      3.164240\n",
      "Hawaii        2.794071\n",
      "Alaska        2.708442\n",
      "Idaho         2.417021\n",
      "New Mexico    2.397956\n",
      "Louisiana     2.355095\n",
      "Colorado      2.199182\n",
      "Delaware      2.114312\n",
      "Name: rate, dtype: float64\n"
     ]
    }
   ],
   "source": [
    "# Read in demography data set, count killings by state code and combine the datasets\n",
    "state_pop = pd.read_csv('state_population.csv')\n",
    "counts = police_killings['state_fp'].value_counts()\n",
    "states = pd.DataFrame({\"STATE\": counts.index, \"killings\": counts})\n",
    "states.reset_index(drop=True, inplace=True)\n",
    "states = states.merge(state_pop, how='left', on='STATE')\n",
    "\n",
    "# Setting index to the name of the states\n",
    "states.set_index(\"NAME\", inplace=True)\n",
    "\n",
    "# Create a rate statistic showing police killing per million people\n",
    "states['pop_millions'] = states['POPESTIMATE2015'] /1000000\n",
    "states['rate'] = states['killings'] / states['pop_millions']\n",
    "print('Ten most violent states')\n",
    "print(states['rate'].sort_values(ascending=False,inplace=True)[:10])"
   ]
  },
  {
   "cell_type": "code",
   "execution_count": 9,
   "metadata": {
    "collapsed": false
   },
   "outputs": [
    {
     "name": "stdout",
     "output_type": "stream",
     "text": [
      "pop                4153.472727\n",
      "county_income     55037.963636\n",
      "share_white          60.132727\n",
      "share_black          21.610909\n",
      "share_hispanic       12.994545\n",
      "dtype: float64\n",
      "pop                4315.750000\n",
      "county_income     48706.967391\n",
      "share_white          55.652174\n",
      "share_black          11.532609\n",
      "share_hispanic       20.693478\n",
      "dtype: float64\n"
     ]
    }
   ],
   "source": [
    "# Creating a new Dataframe just containing the shares of whites, blacks, and hispanics\n",
    "pk = police_killings[\n",
    "                (police_killings['share_white'] != '-') &\n",
    "                (police_killings['share_black'] != '-') &\n",
    "                (police_killings['share_hispanic'] != '-')]\n",
    "pk.is_copy = False\n",
    "pk['share_white'] = pk['share_white'].astype(float)\n",
    "pk['share_black'] = pk['share_black'].astype(float)\n",
    "pk['share_hispanic'] = pk['share_hispanic'].astype(float)\n",
    "\n",
    "\n",
    "# The top ten states, high and low, have been grouped by their FP codes.\n",
    "highest_rates = [40, 4, 31, 15, 2, 16, 35, 22, 8, 10]\n",
    "lowest_rates = [55, 39, 17, 23, 33, 25, 36, 19, 42, 9]\n",
    "\n",
    "# Creating DataFrames for entries with states in one of the top tens\n",
    "lowest_states = pk[pk.state_fp.isin(lowest_rates)]\n",
    "highest_states = pk[pk.state_fp.isin(highest_rates)]               \n",
    "\n",
    "print(lowest_states[['pop','county_income','share_white','share_black','share_hispanic']].mean())\n",
    "print(highest_states[['pop','county_income','share_white','share_black','share_hispanic']].mean())\n"
   ]
  }
 ],
 "metadata": {
  "kernelspec": {
   "display_name": "Python 3",
   "language": "python",
   "name": "python3"
  },
  "language_info": {
   "codemirror_mode": {
    "name": "ipython",
    "version": 3
   },
   "file_extension": ".py",
   "mimetype": "text/x-python",
   "name": "python",
   "nbconvert_exporter": "python",
   "pygments_lexer": "ipython3",
   "version": "3.4.3"
  }
 },
 "nbformat": 4,
 "nbformat_minor": 0
}
