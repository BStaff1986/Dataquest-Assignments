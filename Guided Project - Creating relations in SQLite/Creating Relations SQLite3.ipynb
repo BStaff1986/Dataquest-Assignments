{
 "cells": [
  {
   "cell_type": "markdown",
   "metadata": {},
   "source": [
    "# Creating Relations in SQLite3"
   ]
  },
  {
   "cell_type": "code",
   "execution_count": 1,
   "metadata": {
    "collapsed": false
   },
   "outputs": [
    {
     "name": "stdout",
     "output_type": "stream",
     "text": [
      "Table Schema\n",
      "[(0, 'index', 'INTEGER', 0, None, 0),\n",
      " (1, 'Year', 'REAL', 0, None, 0),\n",
      " (2, 'Category', 'TEXT', 0, None, 0),\n",
      " (3, 'Nominee', 'TEXT', 0, None, 0),\n",
      " (4, 'Won', 'REAL', 0, None, 0),\n",
      " (5, 'Movie', 'TEXT', 0, None, 0),\n",
      " (6, 'Character', 'TEXT', 0, None, 0)]\n",
      "\n",
      "\n",
      "First Ten Results\n",
      "(0, 2010.0, 'Actor -- Leading Role', 'Javier Bardem', 0.0, 'Biutiful ', 'Uxbal')\n",
      "(1, 2010.0, 'Actor -- Leading Role', 'Jeff Bridges', 0.0, 'True Grit ', 'Rooster Cogburn')\n",
      "(2, 2010.0, 'Actor -- Leading Role', 'Jesse Eisenberg', 0.0, 'The Social Network ', 'Mark Zuckerberg')\n",
      "(3, 2010.0, 'Actor -- Leading Role', 'Colin Firth', 1.0, \"The King's Speech \", 'King George VI')\n",
      "(4, 2010.0, 'Actor -- Leading Role', 'James Franco', 0.0, '127 Hours ', 'Aron Ralston')\n",
      "(5, 2010.0, 'Actor -- Supporting Role', 'Christian Bale', 1.0, 'The Fighter ', 'Dicky Eklund')\n",
      "(6, 2010.0, 'Actor -- Supporting Role', 'John Hawkes', 0.0, \"Winter's Bone \", 'Teardrop')\n",
      "(7, 2010.0, 'Actor -- Supporting Role', 'Jeremy Renner', 0.0, 'The Town ', 'James Coughlin')\n",
      "(8, 2010.0, 'Actor -- Supporting Role', 'Mark Ruffalo', 0.0, 'The Kids Are All Right ', 'Paul')\n",
      "(9, 2010.0, 'Actor -- Supporting Role', 'Geoffrey Rush', 0.0, \"The King's Speech \", 'Lionel Logue')\n"
     ]
    }
   ],
   "source": [
    "import sqlite3\n",
    "from pprint import pprint\n",
    "\n",
    "#Connect to the DB prepared in the previous guided project\n",
    "conn = sqlite3.connect('nominations.db')\n",
    "\n",
    "schema = conn.execute('pragma table_info(nominations)').fetchall()\n",
    "print('Table Schema')\n",
    "pprint(schema)\n",
    "print('\\n')\n",
    "first_ten = conn.execute('SELECT * FROM nominations LIMIT 10;').fetchall()\n",
    "print('First Ten Results')\n",
    "for result in first_ten:\n",
    "    print(result)"
   ]
  },
  {
   "cell_type": "markdown",
   "metadata": {},
   "source": [
    "# Creating the cermonies table"
   ]
  },
  {
   "cell_type": "code",
   "execution_count": 2,
   "metadata": {
    "collapsed": false
   },
   "outputs": [
    {
     "name": "stdout",
     "output_type": "stream",
     "text": [
      "Ceremony Host Table Schema\n",
      "(0, 'id', 'INTEGER', 0, None, 1)\n",
      "(1, 'Year', 'INTEGER', 0, None, 0)\n",
      "(2, 'Host', 'TEXT', 0, None, 0)\n",
      "\n",
      "\n",
      "First Ten Ceremony Host Results\n",
      "(1, 2010, 'Steve Martin')\n",
      "(2, 2009, 'Hugh Jackman')\n",
      "(3, 2008, 'Jon Stewart')\n",
      "(4, 2007, 'Ellen DeGeneres')\n",
      "(5, 2006, 'Jon Stewart')\n",
      "(6, 2005, 'Chris Rock')\n",
      "(7, 2004, 'Billy Crystal')\n",
      "(8, 2003, 'Steve Martin')\n",
      "(9, 2002, 'Whoopi Goldberg')\n",
      "(10, 2001, 'Steve Martin')\n"
     ]
    }
   ],
   "source": [
    "# Step 2\n",
    "ceremonies_table = 'CREATE TABLE ceremonies ( \\\n",
    "id INTEGER PRIMARY KEY, \\\n",
    "Year INTEGER, \\\n",
    "Host TEXT);'\n",
    "\n",
    "#Commented out because table was created in an earlier run\n",
    "table = conn.execute(ceremonies_table).fetchall()\n",
    "\n",
    "years_hosts = [(2010, \"Steve Martin\"),\n",
    "               (2009, \"Hugh Jackman\"),\n",
    "               (2008, \"Jon Stewart\"),\n",
    "               (2007, \"Ellen DeGeneres\"),\n",
    "               (2006, \"Jon Stewart\"),\n",
    "               (2005, \"Chris Rock\"),\n",
    "               (2004, \"Billy Crystal\"),\n",
    "               (2003, \"Steve Martin\"),\n",
    "               (2002, \"Whoopi Goldberg\"),\n",
    "               (2001, \"Steve Martin\"),\n",
    "               (2000, \"Billy Crystal\"),\n",
    "              ]\n",
    "insert_query = 'INSERT INTO ceremonies (Year, Host) VALUES(?,?);'\n",
    "\n",
    "conn.executemany(insert_query, years_hosts)\n",
    "\n",
    "ceremonies_schema = conn.execute('pragma table_info(ceremonies)').fetchall()\n",
    "\n",
    "ceremonies_first_ten = conn.execute('SELECT * FROM ceremonies LIMIT 10;').fetchall()\n",
    "\n",
    "print('Ceremony Host Table Schema')\n",
    "for scheme in ceremonies_schema:\n",
    "    print(scheme)\n",
    "print('\\n')\n",
    "print('First Ten Ceremony Host Results')\n",
    "for one in ceremonies_first_ten:\n",
    "    print(one)"
   ]
  },
  {
   "cell_type": "markdown",
   "metadata": {},
   "source": [
    "# Constrain foreign keys"
   ]
  },
  {
   "cell_type": "code",
   "execution_count": 3,
   "metadata": {
    "collapsed": false
   },
   "outputs": [
    {
     "data": {
      "text/plain": [
       "[]"
      ]
     },
     "execution_count": 3,
     "metadata": {},
     "output_type": "execute_result"
    }
   ],
   "source": [
    "conn.execute('PRAGMA foreign_keys = ON;').fetchall()"
   ]
  },
  {
   "cell_type": "markdown",
   "metadata": {},
   "source": [
    "# Setting up one-to-many "
   ]
  },
  {
   "cell_type": "code",
   "execution_count": 4,
   "metadata": {
    "collapsed": false
   },
   "outputs": [
    {
     "name": "stdout",
     "output_type": "stream",
     "text": [
      "[(0, 'id', 'INTEGER', 0, None, 1), (1, 'category', 'TEXT', 0, None, 0), (2, 'nominee', 'TEXT', 0, None, 0), (3, 'movie', 'TEXT', 0, None, 0), (4, 'character', 'TEXT', 0, None, 0), (5, 'won', 'TEXT', 0, None, 0), (6, 'ceremony_id', 'INTEGER', 0, None, 0)]\n",
      "(1, 'Actor -- Leading Role', 'Javier Bardem', 'Biutiful ', 'Uxbal', '0.0', 1)\n",
      "(2, 'Actor -- Leading Role', 'Jeff Bridges', 'True Grit ', 'Rooster Cogburn', '0.0', 1)\n",
      "(3, 'Actor -- Leading Role', 'Jesse Eisenberg', 'The Social Network ', 'Mark Zuckerberg', '0.0', 1)\n",
      "(4, 'Actor -- Leading Role', 'Colin Firth', \"The King's Speech \", 'King George VI', '1.0', 1)\n",
      "(5, 'Actor -- Leading Role', 'James Franco', '127 Hours ', 'Aron Ralston', '0.0', 1)\n"
     ]
    }
   ],
   "source": [
    "new_table_query = ' CREATE TABLE nominations_two \\\n",
    "(id INTEGER PRIMARY KEY,\\\n",
    "category TEXT, \\\n",
    "nominee TEXT, \\\n",
    "movie TEXT,  \\\n",
    "character TEXT, \\\n",
    "won TEXT, \\\n",
    "ceremony_id INTEGER REFERENCES ceremonies(id));'\n",
    "conn.execute(new_table_query)\n",
    "print(conn.execute('pragma table_info(nominations_two);').fetchall())\n",
    "\n",
    "select_query = 'SELECT nominations.category, nominations.nominee, \\\n",
    "nominations.movie, nominations.character, nominations.won, ceremonies.id \\\n",
    "FROM nominations \\\n",
    "JOIN ceremonies ON nominations.year == ceremonies.year;'\n",
    "joined_nominations = conn.execute(select_query).fetchall()\n",
    "\n",
    "insert_nominations_two = 'INSERT INTO nominations_two (Category, Nominee, \\\n",
    "Movie, Character, Won, Ceremony_Id) \\\n",
    "VALUES(?,?,?,?,?,?);'\n",
    "conn.executemany(insert_nominations_two, joined_nominations).fetchall()\n",
    "\n",
    "first_five = conn.execute('SELECT * FROM nominations_two LIMIT 5;').fetchall()\n",
    "print('\\n')\n",
    "for entry in first_five:\n",
    "    print(entry)\n",
    "\n"
   ]
  },
  {
   "cell_type": "markdown",
   "metadata": {},
   "source": [
    "# Deleting and Renaming Tables"
   ]
  },
  {
   "cell_type": "code",
   "execution_count": 5,
   "metadata": {
    "collapsed": false
   },
   "outputs": [
    {
     "name": "stdout",
     "output_type": "stream",
     "text": [
      "(1, 'Actor -- Leading Role', 'Javier Bardem', 'Biutiful ', 'Uxbal', '0.0', 1)\n",
      "(2, 'Actor -- Leading Role', 'Jeff Bridges', 'True Grit ', 'Rooster Cogburn', '0.0', 1)\n",
      "(3, 'Actor -- Leading Role', 'Jesse Eisenberg', 'The Social Network ', 'Mark Zuckerberg', '0.0', 1)\n",
      "(4, 'Actor -- Leading Role', 'Colin Firth', \"The King's Speech \", 'King George VI', '1.0', 1)\n",
      "(5, 'Actor -- Leading Role', 'James Franco', '127 Hours ', 'Aron Ralston', '0.0', 1)\n"
     ]
    }
   ],
   "source": [
    "conn.execute('DROP TABLE nominations;')\n",
    "conn.execute('ALTER TABLE nominations_two RENAME TO nominations;')\n",
    "results = conn.execute('SELECT * FROM nominations LIMIT 5;').fetchall()\n",
    "for result in results:\n",
    "    print(result)"
   ]
  },
  {
   "cell_type": "markdown",
   "metadata": {},
   "source": [
    "# Creating a Join Table"
   ]
  },
  {
   "cell_type": "code",
   "execution_count": 9,
   "metadata": {
    "collapsed": false
   },
   "outputs": [
    {
     "name": "stdout",
     "output_type": "stream",
     "text": [
      "[(1, 1, 1), (2, 2, 2), (3, 3, 3), (4, 4, 4), (5, 5, 5)]\n"
     ]
    }
   ],
   "source": [
    "movies_table = 'CREATE TABLE movies ( \\\n",
    "id INTEGER PRIMARY KEY, \\\n",
    "movie TEXT);'\n",
    "\n",
    "actors_table = 'CREATE TABLE actors( \\\n",
    "id INTEGER PRIMARY KEY, \\\n",
    "actor TEXT);'\n",
    "\n",
    "movies_actors = 'CREATE TABLE movies_actors ( \\\n",
    "id INTEGER PRIMARY KEY, \\\n",
    "movie_id INTEGER REFERENCES movies(id), \\\n",
    "actor_id INTEGER REFERENCES actors(id));'\n",
    "\n",
    "'''\n",
    "conn.execute(movies_table)\n",
    "conn.execute(actors_table)\n",
    "conn.execute(movies_actors)\n",
    "'''\n",
    "actors = conn.execute('SELECT * FROM movies_actors LIMIT 5;').fetchall()\n",
    "print(actors)"
   ]
  },
  {
   "cell_type": "markdown",
   "metadata": {},
   "source": [
    "# Populating the movies and actors tables"
   ]
  },
  {
   "cell_type": "code",
   "execution_count": 7,
   "metadata": {
    "collapsed": false
   },
   "outputs": [
    {
     "name": "stdout",
     "output_type": "stream",
     "text": [
      "[(1, 'Biutiful '), (2, 'True Grit '), (3, 'The Social Network '), (4, \"The King's Speech \"), (5, '127 Hours ')]\n",
      "[(1, 'Javier Bardem'), (2, 'Jeff Bridges'), (3, 'Jesse Eisenberg'), (4, 'Colin Firth'), (5, 'James Franco')]\n"
     ]
    }
   ],
   "source": [
    "insert_movies = \"insert into movies (movie) select distinct movie from nominations;\"\n",
    "insert_actors = \"insert into actors (actor) select distinct nominee from nominations;\"\n",
    "conn.execute(insert_movies)\n",
    "conn.execute(insert_actors)\n",
    "\n",
    "print(conn.execute(\"select * from movies limit 5;\").fetchall())\n",
    "print(conn.execute(\"select * from actors limit 5;\").fetchall())"
   ]
  },
  {
   "cell_type": "markdown",
   "metadata": {},
   "source": [
    "# Populating a join table"
   ]
  },
  {
   "cell_type": "code",
   "execution_count": 8,
   "metadata": {
    "collapsed": false
   },
   "outputs": [
    {
     "name": "stdout",
     "output_type": "stream",
     "text": [
      "[(1, 1, 1), (2, 2, 2), (3, 3, 3), (4, 4, 4), (5, 5, 5)]\n"
     ]
    }
   ],
   "source": [
    "pairs_query = \"select movie,nominee from nominations;\"\n",
    "movie_actor_pairs = conn.execute(pairs_query).fetchall()\n",
    "\n",
    "join_table_insert = \"insert into movies_actors (movie_id, actor_id) values ((select id from movies where movie == ?),(select id from actors where actor == ?));\"\n",
    "conn.executemany(join_table_insert,movie_actor_pairs)\n",
    "\n",
    "print(conn.execute(\"select * from movies_actors limit 5;\").fetchall())"
   ]
  }
 ],
 "metadata": {
  "anaconda-cloud": {},
  "kernelspec": {
   "display_name": "Python [default]",
   "language": "python",
   "name": "python3"
  },
  "language_info": {
   "codemirror_mode": {
    "name": "ipython",
    "version": 3
   },
   "file_extension": ".py",
   "mimetype": "text/x-python",
   "name": "python",
   "nbconvert_exporter": "python",
   "pygments_lexer": "ipython3",
   "version": "3.5.3"
  }
 },
 "nbformat": 4,
 "nbformat_minor": 0
}
