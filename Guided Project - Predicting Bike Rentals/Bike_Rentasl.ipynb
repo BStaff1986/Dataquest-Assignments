{
 "cells": [
  {
   "cell_type": "markdown",
   "metadata": {},
   "source": [
    "# Predicting Washington Public Bike Rentals\n",
    "\n",
    "The dataset for this guided project is from Capital Bike Share, a bike sharing service in Washington. The dataset recorded the number of bikes rented each hour, if the renter was a casual user or registered, as well as weather data such as temperature and humidity.\n",
    "\n",
    "The goal of this assignment was to practice using Linear Regression, Decision Trees, and Random Forests using the SKLearn machine learning library. \n",
    "\n",
    "We begin by loading in the data and doing some quick exploration."
   ]
  },
  {
   "cell_type": "code",
   "execution_count": 16,
   "metadata": {
    "collapsed": false
   },
   "outputs": [
    {
     "name": "stdout",
     "output_type": "stream",
     "text": [
      "   instant      dteday  season  yr  mnth  hr  holiday  weekday  workingday  \\\n",
      "0        1  2011-01-01       1   0     1   0        0        6           0   \n",
      "1        2  2011-01-01       1   0     1   1        0        6           0   \n",
      "2        3  2011-01-01       1   0     1   2        0        6           0   \n",
      "3        4  2011-01-01       1   0     1   3        0        6           0   \n",
      "4        5  2011-01-01       1   0     1   4        0        6           0   \n",
      "\n",
      "   weathersit  temp   atemp   hum  windspeed  casual  registered  cnt  \n",
      "0           1  0.24  0.2879  0.81        0.0       3          13   16  \n",
      "1           1  0.22  0.2727  0.80        0.0       8          32   40  \n",
      "2           1  0.22  0.2727  0.80        0.0       5          27   32  \n",
      "3           1  0.24  0.2879  0.75        0.0       3          10   13  \n",
      "4           1  0.24  0.2879  0.75        0.0       0           1    1  \n"
     ]
    },
    {
     "data": {
      "image/png": "[encoded data removed]",
      "text/plain": [
       "<matplotlib.figure.Figure at 0x19570e6a048>"
      ]
     },
     "metadata": {},
     "output_type": "display_data"
    },
    {
     "name": "stdout",
     "output_type": "stream",
     "text": [
      "instant       0.278379\n",
      "season        0.178056\n",
      "yr            0.250495\n",
      "mnth          0.120638\n",
      "hr            0.394071\n",
      "holiday      -0.030927\n",
      "weekday       0.026900\n",
      "workingday    0.030284\n",
      "weathersit   -0.142426\n",
      "temp          0.404772\n",
      "atemp         0.400929\n",
      "hum          -0.322911\n",
      "windspeed     0.093234\n",
      "casual        0.694564\n",
      "registered    0.972151\n",
      "cnt           1.000000\n",
      "Name: cnt, dtype: float64\n"
     ]
    }
   ],
   "source": [
    "%matplotlib inline\n",
    "import pandas as pd\n",
    "import matplotlib.pyplot as plt\n",
    "\n",
    "\n",
    "bike_rentals = pd.read_csv('bike_rental_hour.csv')\n",
    "print(bike_rentals.head())\n",
    "\n",
    "plt.hist(bike_rentals['cnt'])\n",
    "plt.show()\n",
    "\n",
    "print(bike_rentals.corr()['cnt'])\n"
   ]
  },
  {
   "cell_type": "markdown",
   "metadata": {},
   "source": [
    "We will do some feature engineering before creating the machine learning models. We will collapse the 24 hour time period into 4 six-hour groups. "
   ]
  },
  {
   "cell_type": "code",
   "execution_count": 17,
   "metadata": {
    "collapsed": true
   },
   "outputs": [],
   "source": [
    "# Creating (numeric) labels to divide the day into 4 parts\n",
    "def assign_label(hour):\n",
    "    if 0 <= hour < 6:\n",
    "        return 4\n",
    "    elif 6 <= hour < 12:\n",
    "        return 1\n",
    "    elif 12 <= hour < 18:\n",
    "        return 2\n",
    "    elif 18 <= hour <= 24:\n",
    "        return 3\n",
    "    \n",
    "bike_rentals['time_label'] = bike_rentals['hr'].apply(assign_label)"
   ]
  },
  {
   "cell_type": "markdown",
   "metadata": {},
   "source": [
    "# Linear Regression\n",
    "Before training the machine learning model, we will split the data into train and test sets. A list of features will be created from the columns of the bike rental dataset with our label (\"cnt\") and other useless features dropped. \n",
    "\n",
    "With the train and test sets ready and the features selected, the linear regression model can will then be created, trained, and tested. The error metric used for all the machine learning models in this assignment will be mean squared error."
   ]
  },
  {
   "cell_type": "code",
   "execution_count": 18,
   "metadata": {
    "collapsed": false
   },
   "outputs": [
    {
     "name": "stdout",
     "output_type": "stream",
     "text": [
      "\n",
      "\n",
      "Mean Squared Error:  16839.3444248\n",
      "Root Mean Squared Error:  129.766499624\n"
     ]
    }
   ],
   "source": [
    "from sklearn.linear_model import LinearRegression\n",
    "from sklearn.metrics import mean_squared_error\n",
    "\n",
    "# Creating a test and training set\n",
    "train = bike_rentals.sample(frac=.8)\n",
    "test = bike_rentals[~bike_rentals.index.isin(train.index)]\n",
    "\n",
    "# Preparing the columns wanted for the regression\n",
    "predictors = list(bike_rentals.columns)\n",
    "predictors.remove(\"cnt\")\n",
    "predictors.remove(\"casual\")\n",
    "predictors.remove(\"registered\")\n",
    "predictors.remove(\"dteday\")\n",
    "\n",
    "lr = LinearRegression()\n",
    "lr.fit(train[predictors], train['cnt'])\n",
    "predictions = lr.predict(test[predictors])\n",
    "mse = mean_squared_error(test['cnt'], predictions)\n",
    "print('\\n')\n",
    "print(\"Mean Squared Error: \",mse)\n",
    "print(\"Root Mean Squared Error: \", mse**.5)"
   ]
  },
  {
   "cell_type": "markdown",
   "metadata": {},
   "source": [
    "# Decision Trees\n",
    "The train and test sets will now be applied to a decision tree model.  After the initial model is trained and tested, another decision tree will be modeled with some tinkering of the hyper-parameters with the hopes of tuning the model for more accuracy."
   ]
  },
  {
   "cell_type": "code",
   "execution_count": 19,
   "metadata": {
    "collapsed": false
   },
   "outputs": [
    {
     "name": "stdout",
     "output_type": "stream",
     "text": [
      "\n",
      "\n",
      "Results of Decision Tree\n",
      "Mean Squared Error:  3397.37974684\n",
      "Root Mean Squared Error:  58.2870461324\n",
      "\n",
      "\n",
      "Result of Tweaked Decision Tree\n",
      "Mean Squared Error:  2969.13157616\n",
      "Root Mean Squared Error:  54.4897382648\n"
     ]
    }
   ],
   "source": [
    "from sklearn.tree import DecisionTreeRegressor\n",
    "from sklearn.metrics import roc_auc_score\n",
    "\n",
    "# Instantiate a decision tree regressor. Train. Test. \n",
    "dt = DecisionTreeRegressor()\n",
    "dt.fit(train[predictors], train['cnt'])\n",
    "dt_predictions = dt.predict(test[predictors])\n",
    "\n",
    "mse_dt = mean_squared_error(test['cnt'], dt_predictions)\n",
    "print('\\n')\n",
    "print(\"Results of Decision Tree\")\n",
    "print(\"Mean Squared Error: \",mse_dt)\n",
    "print(\"Root Mean Squared Error: \", mse_dt**.5)\n",
    "\n",
    "# Tinker with the regressor to improve accuracy\n",
    "dt = DecisionTreeRegressor(min_samples_leaf=15, max_depth=25)\n",
    "dt.fit(train[predictors], train['cnt'])\n",
    "dt_predictions = dt.predict(test[predictors])\n",
    "\n",
    "mse_dt = mean_squared_error(test['cnt'], dt_predictions)\n",
    "print('\\n')\n",
    "print(\"Result of Tweaked Decision Tree\")\n",
    "print(\"Mean Squared Error: \",mse_dt)\n",
    "print(\"Root Mean Squared Error: \", mse_dt**.5)"
   ]
  },
  {
   "cell_type": "markdown",
   "metadata": {},
   "source": [
    "# Random Forests\n",
    "Similiarly to the decision trees above, this random forest model will be created twice with the second iteration having it's hyper-parameters tuned. An added avenue of exploration here is using the trained model to test itself against the training data it saw while it was being fit. The difference or similarity between the error scores could be an indication that our model is overfitting. "
   ]
  },
  {
   "cell_type": "code",
   "execution_count": 20,
   "metadata": {
    "collapsed": false
   },
   "outputs": [
    {
     "name": "stdout",
     "output_type": "stream",
     "text": [
      "\n",
      "\n",
      "Result of Random Forest\n",
      "Predictions Using Test Data\n",
      "Mean Squared Error:  2071.95911105\n",
      "Root Mean Squared Error:  45.5187775654\n",
      "Predictions Using Training Data\n",
      "Mean Squared Error:  342.400281954\n",
      "Root Mean Squared Error:  18.5040612286\n",
      "\n",
      "\n",
      "Result of Tweaked Random Forest\n",
      "Predictions Using Test Data\n",
      "Mean Squared Error:  3370.31828119\n",
      "Root Mean Squared Error:  58.0544423898\n",
      "Predictions Using Training Data\n",
      "Mean Squared Error:  2747.28488927\n",
      "Root Mean Squared Error:  52.4145484505\n"
     ]
    }
   ],
   "source": [
    "from sklearn.ensemble import RandomForestRegressor\n",
    "\n",
    "# Create a random forest and fit it\n",
    "rf = RandomForestRegressor()\n",
    "rf.fit(train[predictors], train['cnt'])\n",
    "# Create predictions on test data\n",
    "rf_predictions = rf.predict(test[predictors])\n",
    "mse_rf = mean_squared_error(test['cnt'], rf_predictions)\n",
    "# Create predictions on training data to test for overfitting\n",
    "rf_predictions_train = rf.predict(train[predictors])\n",
    "mse_rf_training = mean_squared_error(train['cnt'], rf_predictions_train)\n",
    "print('\\n')\n",
    "print(\"Result of Random Forest\")\n",
    "print(\"Predictions Using Test Data\")\n",
    "print(\"Mean Squared Error: \",mse_rf)\n",
    "print(\"Root Mean Squared Error: \", mse_rf**.5)\n",
    "print(\"Predictions Using Training Data\")\n",
    "print(\"Mean Squared Error: \",mse_rf_training)\n",
    "print(\"Root Mean Squared Error: \", mse_rf_training**.5)\n",
    "\n",
    "# Tweak the Random Forest \n",
    "rf = RandomForestRegressor(min_samples_leaf=27, max_depth=17)\n",
    "rf.fit(train[predictors], train['cnt'])\n",
    "rf_predictions = rf.predict(test[predictors])\n",
    "mse_rf = mean_squared_error(test['cnt'], rf_predictions)\n",
    "rf_predictions_train = rf.predict(train[predictors])\n",
    "mse_rf_training = mean_squared_error(train['cnt'], rf_predictions_train)\n",
    "        \n",
    "print('\\n')\n",
    "print(\"Result of Tweaked Random Forest\")\n",
    "print(\"Predictions Using Test Data\")\n",
    "print(\"Mean Squared Error: \",mse_rf)\n",
    "print(\"Root Mean Squared Error: \", mse_rf**.5)\n",
    "print(\"Predictions Using Training Data\")\n",
    "print(\"Mean Squared Error: \",mse_rf_training)\n",
    "print(\"Root Mean Squared Error: \", mse_rf_training**.5)"
   ]
  },
  {
   "cell_type": "markdown",
   "metadata": {},
   "source": [
    "In conclusion we can see that the Random Forest algorithm outperformed both Linear Regression and the Decision Tree. Although the tweaked Random Forest performed worse, the result is not alarming. A better tuning could be found if extra time is spent tuning the hyper-parameters. "
   ]
  }
 ],
 "metadata": {
  "anaconda-cloud": {},
  "kernelspec": {
   "display_name": "Python [default]",
   "language": "python",
   "name": "python3"
  },
  "language_info": {
   "codemirror_mode": {
    "name": "ipython",
    "version": 3
   },
   "file_extension": ".py",
   "mimetype": "text/x-python",
   "name": "python",
   "nbconvert_exporter": "python",
   "pygments_lexer": "ipython3",
   "version": "3.5.3"
  }
 },
 "nbformat": 4,
 "nbformat_minor": 0
}
