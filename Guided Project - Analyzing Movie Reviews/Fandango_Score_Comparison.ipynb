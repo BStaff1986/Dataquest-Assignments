{
 "cells": [
  {
   "cell_type": "markdown",
   "metadata": {},
   "source": [
    "# Analyzing Movie Review Scores\n",
    "In this guided project, a dataset containing review scores from 4 leading movie review sites will be analyzed. "
   ]
  },
  {
   "cell_type": "code",
   "execution_count": 8,
   "metadata": {
    "collapsed": false
   },
   "outputs": [
    {
     "data": {
      "text/html": [
       "<div>\n",
       "<table border=\"1\" class=\"dataframe\">\n",
       "  <thead>\n",
       "    <tr style=\"text-align: right;\">\n",
       "      <th></th>\n",
       "      <th>FILM</th>\n",
       "      <th>RottenTomatoes</th>\n",
       "      <th>RottenTomatoes_User</th>\n",
       "      <th>Metacritic</th>\n",
       "      <th>Metacritic_User</th>\n",
       "      <th>IMDB</th>\n",
       "      <th>Fandango_Stars</th>\n",
       "      <th>Fandango_Ratingvalue</th>\n",
       "      <th>RT_norm</th>\n",
       "      <th>RT_user_norm</th>\n",
       "      <th>...</th>\n",
       "      <th>IMDB_norm</th>\n",
       "      <th>RT_norm_round</th>\n",
       "      <th>RT_user_norm_round</th>\n",
       "      <th>Metacritic_norm_round</th>\n",
       "      <th>Metacritic_user_norm_round</th>\n",
       "      <th>IMDB_norm_round</th>\n",
       "      <th>Metacritic_user_vote_count</th>\n",
       "      <th>IMDB_user_vote_count</th>\n",
       "      <th>Fandango_votes</th>\n",
       "      <th>Fandango_Difference</th>\n",
       "    </tr>\n",
       "  </thead>\n",
       "  <tbody>\n",
       "    <tr>\n",
       "      <th>0</th>\n",
       "      <td>Avengers: Age of Ultron (2015)</td>\n",
       "      <td>74</td>\n",
       "      <td>86</td>\n",
       "      <td>66</td>\n",
       "      <td>7.1</td>\n",
       "      <td>7.8</td>\n",
       "      <td>5.0</td>\n",
       "      <td>4.5</td>\n",
       "      <td>3.70</td>\n",
       "      <td>4.3</td>\n",
       "      <td>...</td>\n",
       "      <td>3.90</td>\n",
       "      <td>3.5</td>\n",
       "      <td>4.5</td>\n",
       "      <td>3.5</td>\n",
       "      <td>3.5</td>\n",
       "      <td>4.0</td>\n",
       "      <td>1330</td>\n",
       "      <td>271107</td>\n",
       "      <td>14846</td>\n",
       "      <td>0.5</td>\n",
       "    </tr>\n",
       "    <tr>\n",
       "      <th>1</th>\n",
       "      <td>Cinderella (2015)</td>\n",
       "      <td>85</td>\n",
       "      <td>80</td>\n",
       "      <td>67</td>\n",
       "      <td>7.5</td>\n",
       "      <td>7.1</td>\n",
       "      <td>5.0</td>\n",
       "      <td>4.5</td>\n",
       "      <td>4.25</td>\n",
       "      <td>4.0</td>\n",
       "      <td>...</td>\n",
       "      <td>3.55</td>\n",
       "      <td>4.5</td>\n",
       "      <td>4.0</td>\n",
       "      <td>3.5</td>\n",
       "      <td>4.0</td>\n",
       "      <td>3.5</td>\n",
       "      <td>249</td>\n",
       "      <td>65709</td>\n",
       "      <td>12640</td>\n",
       "      <td>0.5</td>\n",
       "    </tr>\n",
       "    <tr>\n",
       "      <th>2</th>\n",
       "      <td>Ant-Man (2015)</td>\n",
       "      <td>80</td>\n",
       "      <td>90</td>\n",
       "      <td>64</td>\n",
       "      <td>8.1</td>\n",
       "      <td>7.8</td>\n",
       "      <td>5.0</td>\n",
       "      <td>4.5</td>\n",
       "      <td>4.00</td>\n",
       "      <td>4.5</td>\n",
       "      <td>...</td>\n",
       "      <td>3.90</td>\n",
       "      <td>4.0</td>\n",
       "      <td>4.5</td>\n",
       "      <td>3.0</td>\n",
       "      <td>4.0</td>\n",
       "      <td>4.0</td>\n",
       "      <td>627</td>\n",
       "      <td>103660</td>\n",
       "      <td>12055</td>\n",
       "      <td>0.5</td>\n",
       "    </tr>\n",
       "    <tr>\n",
       "      <th>3</th>\n",
       "      <td>Do You Believe? (2015)</td>\n",
       "      <td>18</td>\n",
       "      <td>84</td>\n",
       "      <td>22</td>\n",
       "      <td>4.7</td>\n",
       "      <td>5.4</td>\n",
       "      <td>5.0</td>\n",
       "      <td>4.5</td>\n",
       "      <td>0.90</td>\n",
       "      <td>4.2</td>\n",
       "      <td>...</td>\n",
       "      <td>2.70</td>\n",
       "      <td>1.0</td>\n",
       "      <td>4.0</td>\n",
       "      <td>1.0</td>\n",
       "      <td>2.5</td>\n",
       "      <td>2.5</td>\n",
       "      <td>31</td>\n",
       "      <td>3136</td>\n",
       "      <td>1793</td>\n",
       "      <td>0.5</td>\n",
       "    </tr>\n",
       "    <tr>\n",
       "      <th>4</th>\n",
       "      <td>Hot Tub Time Machine 2 (2015)</td>\n",
       "      <td>14</td>\n",
       "      <td>28</td>\n",
       "      <td>29</td>\n",
       "      <td>3.4</td>\n",
       "      <td>5.1</td>\n",
       "      <td>3.5</td>\n",
       "      <td>3.0</td>\n",
       "      <td>0.70</td>\n",
       "      <td>1.4</td>\n",
       "      <td>...</td>\n",
       "      <td>2.55</td>\n",
       "      <td>0.5</td>\n",
       "      <td>1.5</td>\n",
       "      <td>1.5</td>\n",
       "      <td>1.5</td>\n",
       "      <td>2.5</td>\n",
       "      <td>88</td>\n",
       "      <td>19560</td>\n",
       "      <td>1021</td>\n",
       "      <td>0.5</td>\n",
       "    </tr>\n",
       "  </tbody>\n",
       "</table>\n",
       "<p>5 rows × 22 columns</p>\n",
       "</div>"
      ],
      "text/plain": [
       "                             FILM  RottenTomatoes  RottenTomatoes_User  \\\n",
       "0  Avengers: Age of Ultron (2015)              74                   86   \n",
       "1               Cinderella (2015)              85                   80   \n",
       "2                  Ant-Man (2015)              80                   90   \n",
       "3          Do You Believe? (2015)              18                   84   \n",
       "4   Hot Tub Time Machine 2 (2015)              14                   28   \n",
       "\n",
       "   Metacritic  Metacritic_User  IMDB  Fandango_Stars  Fandango_Ratingvalue  \\\n",
       "0          66              7.1   7.8             5.0                   4.5   \n",
       "1          67              7.5   7.1             5.0                   4.5   \n",
       "2          64              8.1   7.8             5.0                   4.5   \n",
       "3          22              4.7   5.4             5.0                   4.5   \n",
       "4          29              3.4   5.1             3.5                   3.0   \n",
       "\n",
       "   RT_norm  RT_user_norm         ...           IMDB_norm  RT_norm_round  \\\n",
       "0     3.70           4.3         ...                3.90            3.5   \n",
       "1     4.25           4.0         ...                3.55            4.5   \n",
       "2     4.00           4.5         ...                3.90            4.0   \n",
       "3     0.90           4.2         ...                2.70            1.0   \n",
       "4     0.70           1.4         ...                2.55            0.5   \n",
       "\n",
       "   RT_user_norm_round  Metacritic_norm_round  Metacritic_user_norm_round  \\\n",
       "0                 4.5                    3.5                         3.5   \n",
       "1                 4.0                    3.5                         4.0   \n",
       "2                 4.5                    3.0                         4.0   \n",
       "3                 4.0                    1.0                         2.5   \n",
       "4                 1.5                    1.5                         1.5   \n",
       "\n",
       "   IMDB_norm_round  Metacritic_user_vote_count  IMDB_user_vote_count  \\\n",
       "0              4.0                        1330                271107   \n",
       "1              3.5                         249                 65709   \n",
       "2              4.0                         627                103660   \n",
       "3              2.5                          31                  3136   \n",
       "4              2.5                          88                 19560   \n",
       "\n",
       "   Fandango_votes  Fandango_Difference  \n",
       "0           14846                  0.5  \n",
       "1           12640                  0.5  \n",
       "2           12055                  0.5  \n",
       "3            1793                  0.5  \n",
       "4            1021                  0.5  \n",
       "\n",
       "[5 rows x 22 columns]"
      ]
     },
     "execution_count": 8,
     "metadata": {},
     "output_type": "execute_result"
    }
   ],
   "source": [
    "import pandas as pd\n",
    "\n",
    "movies = pd.read_csv('fandango_score_comparison.csv')\n",
    "\n",
    "movies.head()"
   ]
  },
  {
   "cell_type": "markdown",
   "metadata": {},
   "source": [
    "Reviews are scored different between sites. Metacritic and Rotten Tomatoes both score theirs on a 100-point scale. IMDB scores their reviews on a 10 point scale. Fandango uses a 0-5 star system, which includes half stars.\n",
    "\n",
    "To be able to compare the scores directly, the have been normalized and rounded to fit the Fandango 5-star system. As an example, \"Do You Believe?\" has a score of 18 on Rotten Tomatoes. When converted to a range of 0 to 5 stars it would be worth 0.9. Since Fandango only uses half or full stars in it's ratings, the 0.9 stars would be rounded to 1 full star.\n",
    "\n",
    "Normalizing and rounding all the scores allows us to compare the scores directly as I did with a histogram. "
   ]
  },
  {
   "cell_type": "code",
   "execution_count": 9,
   "metadata": {
    "collapsed": false
   },
   "outputs": [
    {
     "data": {
      "image/png": "[encoded data removed]",
      "text/plain": [
       "<matplotlib.figure.Figure at 0x1296973fb00>"
      ]
     },
     "metadata": {},
     "output_type": "display_data"
    }
   ],
   "source": [
    "import matplotlib.pyplot as plt\n",
    "import numpy as np\n",
    "%matplotlib inline\n",
    "\n",
    "fandango = movies['Fandango_Stars']\n",
    "metacritic = movies['Metacritic_norm_round']\n",
    "r_tomatoes = movies['RT_norm_round']\n",
    "imdb = movies['IMDB_norm_round']\n",
    "\n",
    "data = np.vstack([imdb, metacritic, r_tomatoes, fandango]).T\n",
    "kwargs = dict(histtype='bar', alpha=0.5, width=0.10, normed=False, bins=10)\n",
    "\n",
    "fig = plt.figure(figsize=(10,6))\n",
    "plt.xlim(0, 5.0)\n",
    "plt.xticks(np.arange(0,5.5,0.5))\n",
    "plt.hist(data, label=['IMDB', 'Metacritic', 'Rotten Tomatoes', 'Fandango'], zorder=3, **kwargs)\n",
    "\n",
    "plt.legend(loc='upper left')\n",
    "plt.grid(zorder=0)\n",
    "\n",
    "plt.show()"
   ]
  },
  {
   "cell_type": "markdown",
   "metadata": {},
   "source": [
    "The histogram shows that Rotten Tomato reviews are somewhat uniformly distributed, Metacritic reviews are platykurtic, and IMDB reviews are leptokurtic. The Fandango data stands out because it is negative skewed and it's lowest value is 3.0. Let's look at the descriptive statistics to measure the difference we see in this graph."
   ]
  },
  {
   "cell_type": "code",
   "execution_count": 10,
   "metadata": {
    "collapsed": false
   },
   "outputs": [
    {
     "data": {
      "text/html": [
       "<div>\n",
       "<table border=\"1\" class=\"dataframe\">\n",
       "  <thead>\n",
       "    <tr style=\"text-align: right;\">\n",
       "      <th></th>\n",
       "      <th>Mean</th>\n",
       "      <th>Standard Dev.</th>\n",
       "      <th>Median</th>\n",
       "    </tr>\n",
       "  </thead>\n",
       "  <tbody>\n",
       "    <tr>\n",
       "      <th>Fandango</th>\n",
       "      <td>4.09</td>\n",
       "      <td>0.54</td>\n",
       "      <td>4.0</td>\n",
       "    </tr>\n",
       "    <tr>\n",
       "      <th>IMDB</th>\n",
       "      <td>3.38</td>\n",
       "      <td>0.50</td>\n",
       "      <td>3.5</td>\n",
       "    </tr>\n",
       "    <tr>\n",
       "      <th>Rotten Tomatoes</th>\n",
       "      <td>3.07</td>\n",
       "      <td>1.51</td>\n",
       "      <td>3.0</td>\n",
       "    </tr>\n",
       "    <tr>\n",
       "      <th>Metacritic</th>\n",
       "      <td>2.97</td>\n",
       "      <td>0.99</td>\n",
       "      <td>3.0</td>\n",
       "    </tr>\n",
       "  </tbody>\n",
       "</table>\n",
       "</div>"
      ],
      "text/plain": [
       "                 Mean  Standard Dev.  Median\n",
       "Fandango         4.09           0.54     4.0\n",
       "IMDB             3.38           0.50     3.5\n",
       "Rotten Tomatoes  3.07           1.51     3.0\n",
       "Metacritic       2.97           0.99     3.0"
      ]
     },
     "execution_count": 10,
     "metadata": {},
     "output_type": "execute_result"
    }
   ],
   "source": [
    "desc_table = pd.DataFrame(columns=['Mean', 'Standard Dev.', 'Median'])\n",
    "\n",
    "websites= ['Fandango_Stars', 'Metacritic_norm_round', 'RT_norm_round', 'IMDB_norm_round']\n",
    "\n",
    "for site in websites:\n",
    "    mean = np.mean(movies[site])\n",
    "    median = np.median(movies[site])\n",
    "    std = np.std(movies[site])\n",
    "    \n",
    "    desc_table.loc[len(desc_table)] = [mean, std, median]\n",
    "    \n",
    "desc_table = desc_table.set_index([['Fandango', 'Metacritic', 'Rotten Tomatoes', 'IMDB']])\n",
    "desc_table = desc_table.round(2)\n",
    "desc_table.sort_values('Mean', inplace=True, ascending=False)\n",
    "    \n",
    "desc_table"
   ]
  },
  {
   "cell_type": "markdown",
   "metadata": {},
   "source": [
    "The descriptive statistics show us that the Fandango mean and median scores are higher, and it's variance one of the lowest. The mean Fandango score is also higher than it's median which tells us that there are a few high scores that skew the mean upwards. \n",
    "\n",
    "Next, we will examine how the Fandango scores covary with Metacritic by creating a scatterplot."
   ]
  },
  {
   "cell_type": "code",
   "execution_count": 11,
   "metadata": {
    "collapsed": false
   },
   "outputs": [
    {
     "data": {
      "image/png": "[encoded data removed]",
      "text/plain": [
       "<matplotlib.figure.Figure at 0x1296c273a90>"
      ]
     },
     "metadata": {},
     "output_type": "display_data"
    }
   ],
   "source": [
    "plt.scatter(movies['Metacritic_norm_round'], movies['Fandango_Stars'])\n",
    "plt.xlabel(\"Metacritic Scores\")\n",
    "plt.ylabel(\"Fandango Scores\")\n",
    "plt.show()"
   ]
  },
  {
   "cell_type": "markdown",
   "metadata": {},
   "source": [
    "Because the metacritic scores were normalized and rounded to match the scale of the Fandango scores, this scatterplot looks a little strange. As the numbers grow on the x-axis we would expect the the Fandango scores to rise as well. However, the dots in the scatterplot form a rectangle which suggests very little relationship between the two review scores. \n",
    "\n",
    "Let's look at some of the more unusual score differences. "
   ]
  },
  {
   "cell_type": "code",
   "execution_count": 12,
   "metadata": {
    "collapsed": false
   },
   "outputs": [
    {
     "data": {
      "text/html": [
       "<div>\n",
       "<table border=\"1\" class=\"dataframe\">\n",
       "  <thead>\n",
       "    <tr style=\"text-align: right;\">\n",
       "      <th></th>\n",
       "      <th>FILM</th>\n",
       "      <th>fm_diff</th>\n",
       "      <th>Fandango_Stars</th>\n",
       "      <th>Metacritic_norm_round</th>\n",
       "    </tr>\n",
       "  </thead>\n",
       "  <tbody>\n",
       "    <tr>\n",
       "      <th>3</th>\n",
       "      <td>Do You Believe? (2015)</td>\n",
       "      <td>4.0</td>\n",
       "      <td>5.0</td>\n",
       "      <td>1.0</td>\n",
       "    </tr>\n",
       "    <tr>\n",
       "      <th>85</th>\n",
       "      <td>Little Boy (2015)</td>\n",
       "      <td>3.0</td>\n",
       "      <td>4.5</td>\n",
       "      <td>1.5</td>\n",
       "    </tr>\n",
       "    <tr>\n",
       "      <th>47</th>\n",
       "      <td>Annie (2014)</td>\n",
       "      <td>3.0</td>\n",
       "      <td>4.5</td>\n",
       "      <td>1.5</td>\n",
       "    </tr>\n",
       "    <tr>\n",
       "      <th>19</th>\n",
       "      <td>Pixels (2015)</td>\n",
       "      <td>3.0</td>\n",
       "      <td>4.5</td>\n",
       "      <td>1.5</td>\n",
       "    </tr>\n",
       "    <tr>\n",
       "      <th>134</th>\n",
       "      <td>The Longest Ride (2015)</td>\n",
       "      <td>3.0</td>\n",
       "      <td>4.5</td>\n",
       "      <td>1.5</td>\n",
       "    </tr>\n",
       "  </tbody>\n",
       "</table>\n",
       "</div>"
      ],
      "text/plain": [
       "                        FILM  fm_diff  Fandango_Stars  Metacritic_norm_round\n",
       "3     Do You Believe? (2015)      4.0             5.0                    1.0\n",
       "85         Little Boy (2015)      3.0             4.5                    1.5\n",
       "47              Annie (2014)      3.0             4.5                    1.5\n",
       "19             Pixels (2015)      3.0             4.5                    1.5\n",
       "134  The Longest Ride (2015)      3.0             4.5                    1.5"
      ]
     },
     "execution_count": 12,
     "metadata": {},
     "output_type": "execute_result"
    }
   ],
   "source": [
    "movies['fm_diff'] = movies['Fandango_Stars'] - movies['Metacritic_norm_round']\n",
    "movies['fm_diff'] = movies['fm_diff'].apply(abs)\n",
    "movies.sort_values('fm_diff', ascending=False, inplace=True)\n",
    "\n",
    "movies[['FILM','fm_diff', 'Fandango_Stars', 'Metacritic_norm_round']].head()"
   ]
  },
  {
   "cell_type": "markdown",
   "metadata": {},
   "source": [
    "*Do You Believe?* has a 4 star difference in review scores and can be seen plainly in the above scatterplot. The mean difference is 1.3 points.\n",
    "\n",
    "Next let's determine, mathematically, how correlated the reviews are. "
   ]
  },
  {
   "cell_type": "code",
   "execution_count": 13,
   "metadata": {
    "collapsed": false
   },
   "outputs": [
    {
     "name": "stdout",
     "output_type": "stream",
     "text": [
      "Correlation =  0.178449190739\n",
      "Two-tailed p-value =  0.0311615162285\n",
      "\n",
      "\n",
      "The regression line is y =  0.0973110779739 x +  3.7997739189\n",
      "Predicting a Fandango score given a Metacritic score of 3\n",
      "The predicted score is  4.09170715282\n"
     ]
    }
   ],
   "source": [
    "from scipy.stats import pearsonr, linregress\n",
    "\n",
    "correlation = pearsonr(movies['Fandango_Stars'], movies['Metacritic_norm_round'])\n",
    "print(\"Correlation = \", correlation[0])\n",
    "print(\"Two-tailed p-value = \", correlation[1])\n",
    "print('\\n')\n",
    "slope, intercept, pvalue, rvalue, stderr = linregress(\n",
    "    movies['Metacritic_norm_round'], movies['Fandango_Stars'])\n",
    "\n",
    "print('The regression line is y = ',slope, \"x + \", intercept)\n",
    "print('Predicting a Fandango score given a Metacritic score of 3')\n",
    "score = slope * 3 + intercept\n",
    "print('The predicted score is ' , score)"
   ]
  },
  {
   "cell_type": "markdown",
   "metadata": {},
   "source": [
    "There is a very low correlation between between Metacritic and Fandango which means that not only are Fandango scores inflated but their reviews are also scored in a fundamentally different way. The slope and intercept of the line of best fit was also calculated. Next we will draw it onto our scatter plot. "
   ]
  },
  {
   "cell_type": "code",
   "execution_count": 14,
   "metadata": {
    "collapsed": false
   },
   "outputs": [
    {
     "data": {
      "image/png": "[encoded data removed]",
      "text/plain": [
       "<matplotlib.figure.Figure at 0x1296ac01da0>"
      ]
     },
     "metadata": {},
     "output_type": "display_data"
    }
   ],
   "source": [
    "scores = {\n",
    "         0:0,\n",
    "         1:0,\n",
    "         2:0,\n",
    "         3:0,\n",
    "         4:0,\n",
    "         5:0,\n",
    "         6:0}\n",
    "\n",
    "for score in scores.keys():\n",
    "    pred = slope * score + intercept\n",
    "    scores[score] = pred\n",
    "\n",
    "plt.scatter(movies['Metacritic_norm_round'], movies['Fandango_Stars'])\n",
    "plt.plot([0.0, 6.0], [scores[1], scores[6]])\n",
    "plt.xlabel(\"Metacritic Scores\")\n",
    "plt.ylabel(\"Fandango Scores\")\n",
    "plt.xlim(1,5)\n",
    "plt.show()\n"
   ]
  },
  {
   "cell_type": "markdown",
   "metadata": {
    "collapsed": true
   },
   "source": [
    "As the poor correlation would have us expect, our line of best fit is a very poor predictor of movie scores. \n",
    "\n",
    "According to the FiveThirtyEight analysis(which is where this dataset is from), Fandango sells tickets directly to it's viewers and so it is in their interest to get people excited with favourable reviews. Their analysis found that they rounded movies up a half star even when rounding logic would mean the score should have been rounded downward. They also suggest that viewers may also be relieving the cognitive dissonance they experienced from having paid $15 dollars to see a bad film by giving movies a higher score. "
   ]
  }
 ],
 "metadata": {
  "anaconda-cloud": {},
  "kernelspec": {
   "display_name": "Python [default]",
   "language": "python",
   "name": "python3"
  },
  "language_info": {
   "codemirror_mode": {
    "name": "ipython",
    "version": 3
   },
   "file_extension": ".py",
   "mimetype": "text/x-python",
   "name": "python",
   "nbconvert_exporter": "python",
   "pygments_lexer": "ipython3",
   "version": "3.5.3"
  }
 },
 "nbformat": 4,
 "nbformat_minor": 0
}
